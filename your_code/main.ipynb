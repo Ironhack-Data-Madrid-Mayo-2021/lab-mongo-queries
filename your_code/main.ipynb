{
 "cells": [
  {
   "cell_type": "markdown",
   "metadata": {},
   "source": [
    "# Advanced Querying Mongo"
   ]
  },
  {
   "cell_type": "markdown",
   "metadata": {},
   "source": [
    "Importing libraries and setting up connection"
   ]
  },
  {
   "cell_type": "code",
   "execution_count": 3,
   "metadata": {},
   "outputs": [],
   "source": [
    "import pymongo"
   ]
  },
  {
   "cell_type": "code",
   "execution_count": 4,
   "metadata": {},
   "outputs": [],
   "source": [
    "from pymongo import MongoClient\n",
    "client = MongoClient(\"localhost:27017\")"
   ]
  },
  {
   "cell_type": "code",
   "execution_count": 5,
   "metadata": {},
   "outputs": [
    {
     "data": {
      "text/plain": [
       "MongoClient(host=['localhost:27017'], document_class=dict, tz_aware=False, connect=True)"
      ]
     },
     "execution_count": 5,
     "metadata": {},
     "output_type": "execute_result"
    }
   ],
   "source": [
    "client"
   ]
  },
  {
   "cell_type": "code",
   "execution_count": 6,
   "metadata": {},
   "outputs": [
    {
     "data": {
      "text/plain": [
       "['Ironhack-lab', 'admin', 'config', 'local']"
      ]
     },
     "execution_count": 6,
     "metadata": {},
     "output_type": "execute_result"
    }
   ],
   "source": [
    "client.list_database_names()"
   ]
  },
  {
   "cell_type": "code",
   "execution_count": 7,
   "metadata": {},
   "outputs": [],
   "source": [
    "#Conexión a la base de datos\n",
    "db = client.get_database(\"Ironhack-lab\")"
   ]
  },
  {
   "cell_type": "code",
   "execution_count": 8,
   "metadata": {},
   "outputs": [
    {
     "data": {
      "text/plain": [
       "Database(MongoClient(host=['localhost:27017'], document_class=dict, tz_aware=False, connect=True), 'Ironhack-lab')"
      ]
     },
     "execution_count": 8,
     "metadata": {},
     "output_type": "execute_result"
    }
   ],
   "source": [
    "db"
   ]
  },
  {
   "cell_type": "code",
   "execution_count": 9,
   "metadata": {},
   "outputs": [],
   "source": [
    "collection = db.get_collection(\"Companies\")"
   ]
  },
  {
   "cell_type": "code",
   "execution_count": 10,
   "metadata": {},
   "outputs": [],
   "source": [
    "#collection.find_one()"
   ]
  },
  {
   "cell_type": "markdown",
   "metadata": {},
   "source": [
    "🔴 En las actividades en las que no se especifique un limite y cuya impresión es bastante larga a fin de evitar bucles infinitos y facilitar la lectura del jupyter se ha establecido un limite de 15 🔴"
   ]
  },
  {
   "cell_type": "markdown",
   "metadata": {},
   "source": [
    "### 1. All the companies whose name match 'Babelgum'. Retrieve only their `name` field."
   ]
  },
  {
   "cell_type": "code",
   "execution_count": 11,
   "metadata": {},
   "outputs": [],
   "source": [
    "#Defino las variables\n",
    "filtro1 = {\"name\":\"Babelgum\"}\n",
    "proyeccion1 = {\"_id\":0, \"name\":1}"
   ]
  },
  {
   "cell_type": "markdown",
   "metadata": {},
   "source": [
    "Respuesta"
   ]
  },
  {
   "cell_type": "code",
   "execution_count": 12,
   "metadata": {},
   "outputs": [
    {
     "data": {
      "text/plain": [
       "[{'name': 'Babelgum'}]"
      ]
     },
     "execution_count": 12,
     "metadata": {},
     "output_type": "execute_result"
    }
   ],
   "source": [
    "list(collection.find(filtro1, proyeccion1))"
   ]
  },
  {
   "cell_type": "markdown",
   "metadata": {},
   "source": [
    "### 2. All the companies that have more than 5000 employees. Limit the search to 20 companies and sort them by **number of employees**."
   ]
  },
  {
   "cell_type": "code",
   "execution_count": 13,
   "metadata": {},
   "outputs": [],
   "source": [
    "#Defino las variables\n",
    "filtro2 = {\"number_of_employees\":{\"$gt\":5000}}\n",
    "proyeccion2 = {\"_id\":0, \"name\":1, \"number_of_employees\":1}"
   ]
  },
  {
   "cell_type": "markdown",
   "metadata": {},
   "source": [
    "Respuesta"
   ]
  },
  {
   "cell_type": "code",
   "execution_count": 14,
   "metadata": {},
   "outputs": [
    {
     "data": {
      "text/plain": [
       "[{'name': 'Nintendo', 'number_of_employees': 5080},\n",
       " {'name': 'Hexaware Technologies', 'number_of_employees': 5200},\n",
       " {'name': 'Facebook', 'number_of_employees': 5299},\n",
       " {'name': 'OpenText', 'number_of_employees': 5300},\n",
       " {'name': 'LSI', 'number_of_employees': 5400},\n",
       " {'name': 'CPM Braxis', 'number_of_employees': 5400},\n",
       " {'name': 'Microchip Technologies', 'number_of_employees': 5500},\n",
       " {'name': 'Mediaset', 'number_of_employees': 5729},\n",
       " {'name': 'Mindray Medical International', 'number_of_employees': 5763},\n",
       " {'name': 'Baidu', 'number_of_employees': 6000},\n",
       " {'name': 'Dentsu', 'number_of_employees': 6000},\n",
       " {'name': 'Tata Communications', 'number_of_employees': 6000},\n",
       " {'name': 'Atmel', 'number_of_employees': 6000},\n",
       " {'name': 'Acxiom', 'number_of_employees': 6200},\n",
       " {'name': 'Acxiom', 'number_of_employees': 6200},\n",
       " {'name': 'SRA International', 'number_of_employees': 6400},\n",
       " {'name': \"Moody's\", 'number_of_employees': 6800},\n",
       " {'name': 'ManTech', 'number_of_employees': 7000},\n",
       " {'name': 'Adobe Systems', 'number_of_employees': 7173},\n",
       " {'name': 'Broadcom', 'number_of_employees': 7400}]"
      ]
     },
     "execution_count": 14,
     "metadata": {},
     "output_type": "execute_result"
    }
   ],
   "source": [
    "list(collection.find(filtro2,proyeccion2).sort(\"number_of_employees\",1).limit(20))"
   ]
  },
  {
   "cell_type": "markdown",
   "metadata": {},
   "source": [
    "### 3. All the companies founded between 2000 and 2005, both years included. Retrieve only the `name` and `founded_year` fields."
   ]
  },
  {
   "cell_type": "code",
   "execution_count": 15,
   "metadata": {},
   "outputs": [],
   "source": [
    "#Defino las variables\n",
    "filtro3 = {\"founded_year\": {\"$gte\":2000,\"$lte\":2005}}\n",
    "proyeccion3 = {\"_id\":0, \"name\":1, \"founded_year\":1}"
   ]
  },
  {
   "cell_type": "markdown",
   "metadata": {},
   "source": [
    "Respuesta"
   ]
  },
  {
   "cell_type": "code",
   "execution_count": 16,
   "metadata": {},
   "outputs": [
    {
     "data": {
      "text/plain": [
       "[{'name': 'Wetpaint', 'founded_year': 2005},\n",
       " {'name': 'Zoho', 'founded_year': 2005},\n",
       " {'name': 'Digg', 'founded_year': 2004},\n",
       " {'name': 'Facebook', 'founded_year': 2004},\n",
       " {'name': 'Omnidrive', 'founded_year': 2005},\n",
       " {'name': 'StumbleUpon', 'founded_year': 2002},\n",
       " {'name': 'Gizmoz', 'founded_year': 2003},\n",
       " {'name': 'Helio', 'founded_year': 2005},\n",
       " {'name': 'Plaxo', 'founded_year': 2002},\n",
       " {'name': 'Technorati', 'founded_year': 2002},\n",
       " {'name': 'AddThis', 'founded_year': 2004},\n",
       " {'name': 'Veoh', 'founded_year': 2004},\n",
       " {'name': 'Jingle Networks', 'founded_year': 2005},\n",
       " {'name': 'Meetup', 'founded_year': 2002},\n",
       " {'name': 'LifeLock', 'founded_year': 2005}]"
      ]
     },
     "execution_count": 16,
     "metadata": {},
     "output_type": "execute_result"
    }
   ],
   "source": [
    "list(collection.find(filtro3,proyeccion3).limit(15))"
   ]
  },
  {
   "cell_type": "markdown",
   "metadata": {},
   "source": [
    "### 4. All the companies that had a Valuation Amount of more than 100.000.000 and have been founded before 2010. Retrieve only the `name` and `ipo` fields."
   ]
  },
  {
   "cell_type": "code",
   "execution_count": 17,
   "metadata": {},
   "outputs": [],
   "source": [
    "#Defino las variables\n",
    "filtro4 = {\"ipo.valuation_amount\": {\"$gt\":100000000},\n",
    "           \"founded_year\" : {\"$lte\":2010}}\n",
    "proyeccion4 = {\"_id\":0, \"name\":1, \"ipo\":1}"
   ]
  },
  {
   "cell_type": "markdown",
   "metadata": {},
   "source": [
    "Respuesta"
   ]
  },
  {
   "cell_type": "code",
   "execution_count": 18,
   "metadata": {},
   "outputs": [
    {
     "data": {
      "text/plain": [
       "[{'name': 'Facebook',\n",
       "  'ipo': {'valuation_amount': 104000000000,\n",
       "   'valuation_currency_code': 'USD',\n",
       "   'pub_year': 2012,\n",
       "   'pub_month': 5,\n",
       "   'pub_day': 18,\n",
       "   'stock_symbol': 'NASDAQ:FB'}},\n",
       " {'name': 'Twitter',\n",
       "  'ipo': {'valuation_amount': 18100000000,\n",
       "   'valuation_currency_code': 'USD',\n",
       "   'pub_year': 2013,\n",
       "   'pub_month': 11,\n",
       "   'pub_day': 7,\n",
       "   'stock_symbol': 'NYSE:TWTR'}},\n",
       " {'name': 'Yelp',\n",
       "  'ipo': {'valuation_amount': 1300000000,\n",
       "   'valuation_currency_code': 'USD',\n",
       "   'pub_year': 2012,\n",
       "   'pub_month': 3,\n",
       "   'pub_day': 2,\n",
       "   'stock_symbol': 'NYSE:YELP'}},\n",
       " {'name': 'LinkedIn',\n",
       "  'ipo': {'valuation_amount': 9310000000,\n",
       "   'valuation_currency_code': 'USD',\n",
       "   'pub_year': 2011,\n",
       "   'pub_month': 7,\n",
       "   'pub_day': 20,\n",
       "   'stock_symbol': 'NYSE:LNKD'}},\n",
       " {'name': 'Amazon',\n",
       "  'ipo': {'valuation_amount': 100000000000,\n",
       "   'valuation_currency_code': 'USD',\n",
       "   'pub_year': 1997,\n",
       "   'pub_month': 5,\n",
       "   'pub_day': None,\n",
       "   'stock_symbol': 'NASDAQ:AMZN'}},\n",
       " {'name': 'Brightcove',\n",
       "  'ipo': {'valuation_amount': 290000000,\n",
       "   'valuation_currency_code': 'USD',\n",
       "   'pub_year': 2012,\n",
       "   'pub_month': 2,\n",
       "   'pub_day': 17,\n",
       "   'stock_symbol': 'NASDAQ:BCOV'}},\n",
       " {'name': 'KIT digital',\n",
       "  'ipo': {'valuation_amount': 235000000,\n",
       "   'valuation_currency_code': 'USD',\n",
       "   'pub_year': 2010,\n",
       "   'pub_month': 7,\n",
       "   'pub_day': 27,\n",
       "   'stock_symbol': 'KITD'}},\n",
       " {'name': 'Nielsen',\n",
       "  'ipo': {'valuation_amount': 1600000000,\n",
       "   'valuation_currency_code': 'USD',\n",
       "   'pub_year': 2011,\n",
       "   'pub_month': 1,\n",
       "   'pub_day': 26,\n",
       "   'stock_symbol': 'NYSE:NLSN'}},\n",
       " {'name': 'OpenTable',\n",
       "  'ipo': {'valuation_amount': 1050000000,\n",
       "   'valuation_currency_code': 'USD',\n",
       "   'pub_year': 2009,\n",
       "   'pub_month': 5,\n",
       "   'pub_day': 21,\n",
       "   'stock_symbol': 'NASDAQ:OPEN'}},\n",
       " {'name': 'ChannelAdvisor',\n",
       "  'ipo': {'valuation_amount': 287000000,\n",
       "   'valuation_currency_code': 'USD',\n",
       "   'pub_year': 2013,\n",
       "   'pub_month': 5,\n",
       "   'pub_day': 23,\n",
       "   'stock_symbol': 'NYSE:ECOM'}},\n",
       " {'name': 'Jive Software',\n",
       "  'ipo': {'valuation_amount': 1000000000,\n",
       "   'valuation_currency_code': 'USD',\n",
       "   'pub_year': 2012,\n",
       "   'pub_month': 2,\n",
       "   'pub_day': 3,\n",
       "   'stock_symbol': 'NASDAQ:JIVE'}},\n",
       " {'name': 'Zillow',\n",
       "  'ipo': {'valuation_amount': 2550000000,\n",
       "   'valuation_currency_code': 'USD',\n",
       "   'pub_year': 2011,\n",
       "   'pub_month': 7,\n",
       "   'pub_day': 19,\n",
       "   'stock_symbol': 'NASDAQ:Z'}},\n",
       " {'name': 'Wix',\n",
       "  'ipo': {'valuation_amount': 750000000,\n",
       "   'valuation_currency_code': 'USD',\n",
       "   'pub_year': 2013,\n",
       "   'pub_month': 11,\n",
       "   'pub_day': 6,\n",
       "   'stock_symbol': 'NASDAQ:WIX'}},\n",
       " {'name': 'Shutterfly',\n",
       "  'ipo': {'valuation_amount': 350000000,\n",
       "   'valuation_currency_code': 'USD',\n",
       "   'pub_year': 2006,\n",
       "   'pub_month': 9,\n",
       "   'pub_day': 29,\n",
       "   'stock_symbol': 'SFLY'}},\n",
       " {'name': 'TripAdvisor',\n",
       "  'ipo': {'valuation_amount': 3273770000,\n",
       "   'valuation_currency_code': 'USD',\n",
       "   'pub_year': 2011,\n",
       "   'pub_month': 12,\n",
       "   'pub_day': 21,\n",
       "   'stock_symbol': 'TRIP'}}]"
      ]
     },
     "execution_count": 18,
     "metadata": {},
     "output_type": "execute_result"
    }
   ],
   "source": [
    "list(collection.find(filtro4,proyeccion4).limit(15))"
   ]
  },
  {
   "cell_type": "markdown",
   "metadata": {},
   "source": [
    "### 5. All the companies that have less than 1000 employees and have been founded before 2005. Order them by the number of employees and limit the search to 10 companies."
   ]
  },
  {
   "cell_type": "code",
   "execution_count": 19,
   "metadata": {},
   "outputs": [],
   "source": [
    "#Definiendo las variables\n",
    "filtro5 = {\"number_of_employees\":{\"$lt\": 1000}, \"founded_year\":{\"$lte\":2005}}\n",
    "proyeccion5 = {\"_id\":0, \"name\":1, \"number_of_employees\":1}"
   ]
  },
  {
   "cell_type": "markdown",
   "metadata": {},
   "source": [
    "Respuesta"
   ]
  },
  {
   "cell_type": "code",
   "execution_count": 20,
   "metadata": {},
   "outputs": [
    {
     "data": {
      "text/plain": [
       "[{'name': 'Infinera Corporation', 'number_of_employees': 974},\n",
       " {'name': 'Box', 'number_of_employees': 950},\n",
       " {'name': 'NorthPoint Communications Group', 'number_of_employees': 948},\n",
       " {'name': '888 Holdings', 'number_of_employees': 931},\n",
       " {'name': 'Forrester Research', 'number_of_employees': 903},\n",
       " {'name': 'SonicWALL', 'number_of_employees': 900},\n",
       " {'name': 'Webmetrics', 'number_of_employees': 900},\n",
       " {'name': 'Workday', 'number_of_employees': 900},\n",
       " {'name': 'Cornerstone OnDemand', 'number_of_employees': 881},\n",
       " {'name': 'Mozilla', 'number_of_employees': 800}]"
      ]
     },
     "execution_count": 20,
     "metadata": {},
     "output_type": "execute_result"
    }
   ],
   "source": [
    "list(collection.find(filtro5,proyeccion5).sort(\"number_of_employees\", -1).limit(10))"
   ]
  },
  {
   "cell_type": "markdown",
   "metadata": {},
   "source": [
    "### 6. All the companies that don't include the `partners` field."
   ]
  },
  {
   "cell_type": "code",
   "execution_count": 21,
   "metadata": {},
   "outputs": [],
   "source": [
    "#Definiendo las variables\n",
    "filtro6 = {\"partners\":{\"$exists\": False}}\n",
    "proyeccion6 = {\"_id\":0, \"name\":1}"
   ]
  },
  {
   "cell_type": "markdown",
   "metadata": {},
   "source": [
    "Respuesta"
   ]
  },
  {
   "cell_type": "code",
   "execution_count": 22,
   "metadata": {},
   "outputs": [
    {
     "data": {
      "text/plain": [
       "[]"
      ]
     },
     "execution_count": 22,
     "metadata": {},
     "output_type": "execute_result"
    }
   ],
   "source": [
    "list(collection.find(filtro6,proyeccion6))"
   ]
  },
  {
   "cell_type": "code",
   "execution_count": 23,
   "metadata": {},
   "outputs": [
    {
     "data": {
      "text/plain": [
       "18801"
      ]
     },
     "execution_count": 23,
     "metadata": {},
     "output_type": "execute_result"
    }
   ],
   "source": [
    "#Comprobación\n",
    "#Filtro = {\"partners\": {\"exists\":True}}\n",
    "len(list(collection.find({\"partners\": {\"$exists\": True}})))"
   ]
  },
  {
   "cell_type": "markdown",
   "metadata": {},
   "source": [
    "### 7. All the companies that have a null type of value on the `category_code` field."
   ]
  },
  {
   "cell_type": "code",
   "execution_count": 24,
   "metadata": {},
   "outputs": [],
   "source": [
    "#Definiendo las variables\n",
    "filtro7 = {\"category_code\": None}\n",
    "proyeccion7 = {\"_id\":0, \"name\":1, \"category_code\":1}"
   ]
  },
  {
   "cell_type": "markdown",
   "metadata": {},
   "source": [
    "Respuesta"
   ]
  },
  {
   "cell_type": "code",
   "execution_count": 25,
   "metadata": {},
   "outputs": [
    {
     "data": {
      "text/plain": [
       "[{'name': 'Collective', 'category_code': None},\n",
       " {'name': 'Snimmer', 'category_code': None},\n",
       " {'name': 'KoolIM', 'category_code': None},\n",
       " {'name': 'Level9 Media', 'category_code': None},\n",
       " {'name': 'VidKing', 'category_code': None},\n",
       " {'name': 'Drigg', 'category_code': None},\n",
       " {'name': 'SpaceTime', 'category_code': None},\n",
       " {'name': 'Touch Clarity', 'category_code': None},\n",
       " {'name': 'MMDAYS', 'category_code': None},\n",
       " {'name': 'Inside Group', 'category_code': None},\n",
       " {'name': 'Repeater Store', 'category_code': None},\n",
       " {'name': 'Tapesh', 'category_code': None},\n",
       " {'name': 'iPersians', 'category_code': None},\n",
       " {'name': 'NewPersia', 'category_code': None},\n",
       " {'name': 'Pyra Labs', 'category_code': None}]"
      ]
     },
     "execution_count": 25,
     "metadata": {},
     "output_type": "execute_result"
    }
   ],
   "source": [
    "list(collection.find(filtro7,proyeccion7).limit(15))"
   ]
  },
  {
   "cell_type": "markdown",
   "metadata": {},
   "source": [
    "### 8. All the companies that have at least 100 employees but less than 1000. Retrieve only the `name` and `number of employees` fields."
   ]
  },
  {
   "cell_type": "code",
   "execution_count": 26,
   "metadata": {},
   "outputs": [],
   "source": [
    "#Definiendo las variables\n",
    "filtro8 = {\"number_of_employees\":{\"$gte\":100,\"$lt\":1000}}\n",
    "proyeccion8 = {\"_id\":0, \"name\":1, \"number_of_employees\":1}"
   ]
  },
  {
   "cell_type": "markdown",
   "metadata": {},
   "source": [
    "Respuesta"
   ]
  },
  {
   "cell_type": "code",
   "execution_count": 27,
   "metadata": {},
   "outputs": [
    {
     "data": {
      "text/plain": [
       "[{'name': 'AdventNet', 'number_of_employees': 600},\n",
       " {'name': 'AddThis', 'number_of_employees': 120},\n",
       " {'name': 'OpenX', 'number_of_employees': 305},\n",
       " {'name': 'LifeLock', 'number_of_employees': 644},\n",
       " {'name': 'Jajah', 'number_of_employees': 110},\n",
       " {'name': 'Livestream', 'number_of_employees': 120},\n",
       " {'name': 'Ustream', 'number_of_employees': 250},\n",
       " {'name': 'iContact', 'number_of_employees': 300},\n",
       " {'name': 'Yelp', 'number_of_employees': 800},\n",
       " {'name': 'Dailymotion', 'number_of_employees': 120},\n",
       " {'name': 'RockYou', 'number_of_employees': 106},\n",
       " {'name': 'Meebo', 'number_of_employees': 200},\n",
       " {'name': 'Eventbrite', 'number_of_employees': 200},\n",
       " {'name': 'Box', 'number_of_employees': 950},\n",
       " {'name': 'Conduit', 'number_of_employees': 215}]"
      ]
     },
     "execution_count": 27,
     "metadata": {},
     "output_type": "execute_result"
    }
   ],
   "source": [
    "list(collection.find(filtro8,proyeccion8).limit(15))"
   ]
  },
  {
   "cell_type": "markdown",
   "metadata": {},
   "source": [
    "### 9. Order all the companies by their IPO price in a descending order."
   ]
  },
  {
   "cell_type": "code",
   "execution_count": 28,
   "metadata": {},
   "outputs": [],
   "source": [
    "#Definiendo las variables\n",
    "proyeccion9 = {\"_id\":0, \"name\":1, \"ipo.valuation_amount\":1}"
   ]
  },
  {
   "cell_type": "markdown",
   "metadata": {},
   "source": [
    "Resultado"
   ]
  },
  {
   "cell_type": "code",
   "execution_count": 29,
   "metadata": {},
   "outputs": [
    {
     "data": {
      "text/plain": [
       "[{'name': 'GREE', 'ipo': {'valuation_amount': 108960000000}},\n",
       " {'name': 'Facebook', 'ipo': {'valuation_amount': 104000000000}},\n",
       " {'name': 'Amazon', 'ipo': {'valuation_amount': 100000000000}},\n",
       " {'name': 'Twitter', 'ipo': {'valuation_amount': 18100000000}},\n",
       " {'name': 'Groupon', 'ipo': {'valuation_amount': 12800000000}},\n",
       " {'name': 'Tencent', 'ipo': {'valuation_amount': 11000000000}},\n",
       " {'name': 'Western Digital', 'ipo': {'valuation_amount': 9430000000}},\n",
       " {'name': 'LinkedIn', 'ipo': {'valuation_amount': 9310000000}},\n",
       " {'name': 'BMC Software', 'ipo': {'valuation_amount': 6000000000}},\n",
       " {'name': 'Rackspace', 'ipo': {'valuation_amount': 5440000000}},\n",
       " {'name': 'Baidu', 'ipo': {'valuation_amount': 4000000000}},\n",
       " {'name': 'TripAdvisor', 'ipo': {'valuation_amount': 3273770000}},\n",
       " {'name': 'HomeAway', 'ipo': {'valuation_amount': 3000000000}},\n",
       " {'name': 'Zillow', 'ipo': {'valuation_amount': 2550000000}},\n",
       " {'name': 'Nielsen', 'ipo': {'valuation_amount': 1600000000}}]"
      ]
     },
     "execution_count": 29,
     "metadata": {},
     "output_type": "execute_result"
    }
   ],
   "source": [
    "list(collection.find({},proyeccion9).sort(\"ipo.valuation_amount\",-1).limit(15))"
   ]
  },
  {
   "cell_type": "markdown",
   "metadata": {},
   "source": [
    "### 10. Retrieve the 10 companies with more employees, order by the `number of employees`"
   ]
  },
  {
   "cell_type": "code",
   "execution_count": 30,
   "metadata": {},
   "outputs": [],
   "source": [
    "#Definiendo las variables\n",
    "proyeccion10 = {\"_id\":0, \"name\":1, \"number_of_employees\":1}"
   ]
  },
  {
   "cell_type": "markdown",
   "metadata": {},
   "source": [
    "Resultado"
   ]
  },
  {
   "cell_type": "code",
   "execution_count": 31,
   "metadata": {},
   "outputs": [
    {
     "data": {
      "text/plain": [
       "[{'name': 'Siemens', 'number_of_employees': 405000},\n",
       " {'name': 'IBM', 'number_of_employees': 388000},\n",
       " {'name': 'Toyota', 'number_of_employees': 320000},\n",
       " {'name': 'PayPal', 'number_of_employees': 300000},\n",
       " {'name': 'Nippon Telegraph and Telephone Corporation',\n",
       "  'number_of_employees': 227000},\n",
       " {'name': 'Samsung Electronics', 'number_of_employees': 221726},\n",
       " {'name': 'Accenture', 'number_of_employees': 205000},\n",
       " {'name': 'Tata Consultancy Services', 'number_of_employees': 200300},\n",
       " {'name': 'Flextronics International', 'number_of_employees': 200000},\n",
       " {'name': 'Safeway', 'number_of_employees': 186000}]"
      ]
     },
     "execution_count": 31,
     "metadata": {},
     "output_type": "execute_result"
    }
   ],
   "source": [
    "list(collection.find({},proyeccion10).sort(\"number_of_employees\",-1).limit(10))"
   ]
  },
  {
   "cell_type": "markdown",
   "metadata": {},
   "source": [
    "### 11. All the companies founded on the second semester of the year. Limit your search to 1000 companies."
   ]
  },
  {
   "cell_type": "code",
   "execution_count": 32,
   "metadata": {},
   "outputs": [],
   "source": [
    "#Definiendo las variables\n",
    "filtro11 = {\"founded_month\":{\"$gte\":6, \"$lte\":12}}\n",
    "proyeccion11 = {\"_id\":0, \"name\":1, \"founded_month\":1}"
   ]
  },
  {
   "cell_type": "markdown",
   "metadata": {},
   "source": [
    "Respuesta"
   ]
  },
  {
   "cell_type": "code",
   "execution_count": 33,
   "metadata": {},
   "outputs": [
    {
     "data": {
      "text/plain": [
       "[{'name': 'Wetpaint', 'founded_month': 10},\n",
       " {'name': 'Zoho', 'founded_month': 9},\n",
       " {'name': 'Digg', 'founded_month': 10},\n",
       " {'name': 'Omnidrive', 'founded_month': 11},\n",
       " {'name': 'Postini', 'founded_month': 6},\n",
       " {'name': 'Geni', 'founded_month': 6},\n",
       " {'name': 'Fox Interactive Media', 'founded_month': 6},\n",
       " {'name': 'eBay', 'founded_month': 9},\n",
       " {'name': 'Joost', 'founded_month': 10},\n",
       " {'name': 'Plaxo', 'founded_month': 11},\n",
       " {'name': 'Powerset', 'founded_month': 10},\n",
       " {'name': 'Technorati', 'founded_month': 6},\n",
       " {'name': 'Sparter', 'founded_month': 6},\n",
       " {'name': 'Kyte', 'founded_month': 12},\n",
       " {'name': 'Thoof', 'founded_month': 12},\n",
       " {'name': 'Jingle Networks', 'founded_month': 9},\n",
       " {'name': 'LifeLock', 'founded_month': 8},\n",
       " {'name': 'Wesabe', 'founded_month': 12},\n",
       " {'name': 'SmugMug', 'founded_month': 11},\n",
       " {'name': 'Google', 'founded_month': 9},\n",
       " {'name': 'Skype', 'founded_month': 8},\n",
       " {'name': 'Pando Networks', 'founded_month': 7},\n",
       " {'name': 'Ikan', 'founded_month': 12},\n",
       " {'name': 'delicious', 'founded_month': 9},\n",
       " {'name': 'Topix', 'founded_month': 6},\n",
       " {'name': 'Pownce', 'founded_month': 6},\n",
       " {'name': 'AllPeers', 'founded_month': 8},\n",
       " {'name': 'Wize', 'founded_month': 8},\n",
       " {'name': 'AllofMP3', 'founded_month': 6},\n",
       " {'name': 'SellABand', 'founded_month': 8},\n",
       " {'name': 'iContact', 'founded_month': 7},\n",
       " {'name': 'MeeVee', 'founded_month': 7},\n",
       " {'name': 'blinkx', 'founded_month': 12},\n",
       " {'name': 'Zlio', 'founded_month': 11},\n",
       " {'name': 'Yelp', 'founded_month': 7},\n",
       " {'name': 'Jaiku', 'founded_month': 7},\n",
       " {'name': 'Yapta', 'founded_month': 7},\n",
       " {'name': 'Fleck', 'founded_month': 11},\n",
       " {'name': 'SideStep', 'founded_month': 11},\n",
       " {'name': 'RockYou', 'founded_month': 11},\n",
       " {'name': 'Instructables', 'founded_month': 8},\n",
       " {'name': 'Netvibes', 'founded_month': 9},\n",
       " {'name': 'Swivel', 'founded_month': 12},\n",
       " {'name': 'Slide', 'founded_month': 8},\n",
       " {'name': 'TripHub', 'founded_month': 6},\n",
       " {'name': 'CrowdVine', 'founded_month': 8},\n",
       " {'name': 'TheFind', 'founded_month': 10},\n",
       " {'name': 'TVtrip', 'founded_month': 6},\n",
       " {'name': 'PBworks', 'founded_month': 6},\n",
       " {'name': 'Sway', 'founded_month': 12},\n",
       " {'name': 'CornerWorld', 'founded_month': 9},\n",
       " {'name': 'WatZatSong', 'founded_month': 6},\n",
       " {'name': 'FlickIM', 'founded_month': 12},\n",
       " {'name': 'Terabitz', 'founded_month': 7},\n",
       " {'name': 'Kaboodle', 'founded_month': 10},\n",
       " {'name': 'GigaOM', 'founded_month': 7},\n",
       " {'name': 'Redfin', 'founded_month': 10},\n",
       " {'name': 'Wink', 'founded_month': 8},\n",
       " {'name': 'Go2Web20', 'founded_month': 9},\n",
       " {'name': 'Seesmic', 'founded_month': 6},\n",
       " {'name': 'TechnologyGuide', 'founded_month': 10},\n",
       " {'name': 'Hotelicopter', 'founded_month': 6},\n",
       " {'name': 'Techmeme', 'founded_month': 10},\n",
       " {'name': 'Ujogo', 'founded_month': 7},\n",
       " {'name': 'Recipezaar', 'founded_month': 9},\n",
       " {'name': 'Gumiyo', 'founded_month': 11},\n",
       " {'name': 'stylediary', 'founded_month': 8},\n",
       " {'name': 'Piczo', 'founded_month': 11},\n",
       " {'name': 'Cyworld', 'founded_month': 7},\n",
       " {'name': 'Socialtext', 'founded_month': 12},\n",
       " {'name': 'spigit', 'founded_month': 6},\n",
       " {'name': 'ConnectMeAnywhere', 'founded_month': 9},\n",
       " {'name': 'hi5', 'founded_month': 12},\n",
       " {'name': 'Clipperz', 'founded_month': 11},\n",
       " {'name': 'Tagged', 'founded_month': 10},\n",
       " {'name': 'Nintendo', 'founded_month': 9},\n",
       " {'name': 'Indeed', 'founded_month': 11},\n",
       " {'name': 'Jaxtr', 'founded_month': 10},\n",
       " {'name': 'Cerado', 'founded_month': 7},\n",
       " {'name': 'ONEsite', 'founded_month': 9},\n",
       " {'name': 'Wallhogs', 'founded_month': 8},\n",
       " {'name': 'Respectance', 'founded_month': 6},\n",
       " {'name': 'eBuddy', 'founded_month': 9},\n",
       " {'name': 'Grockit', 'founded_month': 12},\n",
       " {'name': 'Adobe Systems', 'founded_month': 12},\n",
       " {'name': 'JumpBox', 'founded_month': 7},\n",
       " {'name': 'Phonezoo', 'founded_month': 11},\n",
       " {'name': 'LongJump', 'founded_month': 7},\n",
       " {'name': 'Relationals', 'founded_month': 7},\n",
       " {'name': 'Wishpot', 'founded_month': 11},\n",
       " {'name': 'Forbes', 'founded_month': 8},\n",
       " {'name': 'Boonex', 'founded_month': 7},\n",
       " {'name': 'IntenseDebate', 'founded_month': 12},\n",
       " {'name': 'Rebtel', 'founded_month': 7},\n",
       " {'name': 'Buxfer', 'founded_month': 7},\n",
       " {'name': 'boo-box', 'founded_month': 7},\n",
       " {'name': 'TextPayMe', 'founded_month': 12},\n",
       " {'name': 'BillMonk', 'founded_month': 9},\n",
       " {'name': 'PayPal', 'founded_month': 12},\n",
       " {'name': 'MeeMix', 'founded_month': 6},\n",
       " {'name': 'The Walt Disney Company', 'founded_month': 10},\n",
       " {'name': 'Alstrasoft', 'founded_month': 6},\n",
       " {'name': 'WebbAlert', 'founded_month': 8},\n",
       " {'name': 'Rocketboom', 'founded_month': 8},\n",
       " {'name': 'WallStrip', 'founded_month': 10},\n",
       " {'name': 'IAC', 'founded_month': 8},\n",
       " {'name': 'Techstars', 'founded_month': 10},\n",
       " {'name': 'Nirvanix', 'founded_month': 7},\n",
       " {'name': 'Zwinky', 'founded_month': 6},\n",
       " {'name': 'Mokitown', 'founded_month': 11},\n",
       " {'name': 'ActiveWorlds', 'founded_month': 6},\n",
       " {'name': 'Neopets', 'founded_month': 11},\n",
       " {'name': 'KnockaTV', 'founded_month': 8},\n",
       " {'name': 'Pickle', 'founded_month': 6},\n",
       " {'name': 'Revver', 'founded_month': 10},\n",
       " {'name': 'Metacafe', 'founded_month': 7},\n",
       " {'name': 'MindTouch', 'founded_month': 12},\n",
       " {'name': 'ChaCha', 'founded_month': 12},\n",
       " {'name': 'Sportingo', 'founded_month': 7},\n",
       " {'name': 'Akamai Technologies', 'founded_month': 8},\n",
       " {'name': 'Dropbox', 'founded_month': 6},\n",
       " {'name': 'Splashup', 'founded_month': 10},\n",
       " {'name': 'Curverider', 'founded_month': 8},\n",
       " {'name': 'MobiTV', 'founded_month': 11},\n",
       " {'name': 'SomethingSimpler', 'founded_month': 8},\n",
       " {'name': 'Six Apart', 'founded_month': 9},\n",
       " {'name': 'BitTorrent', 'founded_month': 9},\n",
       " {'name': 'SuicideGirls', 'founded_month': 9},\n",
       " {'name': 'Goowy', 'founded_month': 10},\n",
       " {'name': 'MySpace', 'founded_month': 8},\n",
       " {'name': 'InviteShare', 'founded_month': 7},\n",
       " {'name': 'Doostang', 'founded_month': 6},\n",
       " {'name': 'TechCrunch', 'founded_month': 6},\n",
       " {'name': 'Docstoc', 'founded_month': 8},\n",
       " {'name': 'Vlingo', 'founded_month': 6},\n",
       " {'name': 'Mevio', 'founded_month': 10},\n",
       " {'name': 'BitPass', 'founded_month': 12},\n",
       " {'name': 'Alibaba', 'founded_month': 6},\n",
       " {'name': 'eHarmony', 'founded_month': 8},\n",
       " {'name': 'Yeigo', 'founded_month': 6},\n",
       " {'name': 'TubeMogul', 'founded_month': 11},\n",
       " {'name': 'Shopzilla', 'founded_month': 6},\n",
       " {'name': 'dpreview', 'founded_month': 12},\n",
       " {'name': 'Lastminute', 'founded_month': 10},\n",
       " {'name': 'Multiply', 'founded_month': 12},\n",
       " {'name': 'Webshots', 'founded_month': 6},\n",
       " {'name': 'LimeLife', 'founded_month': 6},\n",
       " {'name': 'OpenTable', 'founded_month': 7},\n",
       " {'name': 'MocoSpace', 'founded_month': 10},\n",
       " {'name': 'YouBeQB', 'founded_month': 8},\n",
       " {'name': 'ChannelAdvisor', 'founded_month': 7},\n",
       " {'name': 'Quattro Wireless', 'founded_month': 10},\n",
       " {'name': 'Thumbplay', 'founded_month': 9},\n",
       " {'name': 'Wonga', 'founded_month': 10},\n",
       " {'name': 'Tutor', 'founded_month': 11},\n",
       " {'name': 'Collagr', 'founded_month': 6},\n",
       " {'name': 'SayNow', 'founded_month': 9},\n",
       " {'name': 'CircleUp', 'founded_month': 10},\n",
       " {'name': 'ContactOffice', 'founded_month': 7},\n",
       " {'name': 'Yugma', 'founded_month': 10},\n",
       " {'name': 'imeem', 'founded_month': 11},\n",
       " {'name': 'AdMob', 'founded_month': 12},\n",
       " {'name': 'AgentMatch', 'founded_month': 6},\n",
       " {'name': 'Attributor', 'founded_month': 10},\n",
       " {'name': 'Nemedia', 'founded_month': 7},\n",
       " {'name': 'PeekYou', 'founded_month': 11},\n",
       " {'name': 'ZocDoc', 'founded_month': 9},\n",
       " {'name': 'WooMe', 'founded_month': 12},\n",
       " {'name': 'Viewdle', 'founded_month': 7},\n",
       " {'name': 'TripIt', 'founded_month': 10},\n",
       " {'name': 'PubMatic', 'founded_month': 9},\n",
       " {'name': 'app2you', 'founded_month': 10},\n",
       " {'name': 'Orgoo', 'founded_month': 11},\n",
       " {'name': 'HylioSoft', 'founded_month': 6},\n",
       " {'name': 'YourStreet', 'founded_month': 11},\n",
       " {'name': 'Ceedo Technologies', 'founded_month': 10},\n",
       " {'name': 'FlowPlay', 'founded_month': 12},\n",
       " {'name': 'IPartee', 'founded_month': 10},\n",
       " {'name': 'Feedjit', 'founded_month': 7},\n",
       " {'name': 'Viewpoints', 'founded_month': 8},\n",
       " {'name': 'RatePoint', 'founded_month': 9},\n",
       " {'name': 'ThisNext', 'founded_month': 12},\n",
       " {'name': 'Avvo', 'founded_month': 6},\n",
       " {'name': 'Clickable', 'founded_month': 12},\n",
       " {'name': 'Extravigator', 'founded_month': 6},\n",
       " {'name': 'mig33', 'founded_month': 12},\n",
       " {'name': 'Animoto', 'founded_month': 8},\n",
       " {'name': 'GamerDNA', 'founded_month': 10},\n",
       " {'name': 'Pakt', 'founded_month': 10},\n",
       " {'name': 'mEgo', 'founded_month': 10},\n",
       " {'name': 'Realius', 'founded_month': 11},\n",
       " {'name': 'Metaplace', 'founded_month': 7},\n",
       " {'name': 'CafeScribe', 'founded_month': 10},\n",
       " {'name': 'Fixya', 'founded_month': 6},\n",
       " {'name': 'Syntraxis', 'founded_month': 11},\n",
       " {'name': 'BrightQube', 'founded_month': 10},\n",
       " {'name': 'BuzzDash', 'founded_month': 9},\n",
       " {'name': 'BigSwerve', 'founded_month': 9},\n",
       " {'name': 'Styky', 'founded_month': 12},\n",
       " {'name': 'Goojet', 'founded_month': 12},\n",
       " {'name': 'GroupSwim', 'founded_month': 10},\n",
       " {'name': 'Diigo', 'founded_month': 7},\n",
       " {'name': 'EkkoTV', 'founded_month': 9},\n",
       " {'name': 'Kaltura', 'founded_month': 10},\n",
       " {'name': 'Notemarks', 'founded_month': 10},\n",
       " {'name': 'mPortico', 'founded_month': 10},\n",
       " {'name': 'itsmylife', 'founded_month': 11},\n",
       " {'name': 'Mobivox', 'founded_month': 10},\n",
       " {'name': 'eGenerations', 'founded_month': 7},\n",
       " {'name': 'FriendFeed', 'founded_month': 10},\n",
       " {'name': 'Youlicit', 'founded_month': 9},\n",
       " {'name': 'Babylon', 'founded_month': 9},\n",
       " {'name': 'FlexiScale', 'founded_month': 9},\n",
       " {'name': 'earthmine', 'founded_month': 7},\n",
       " {'name': 'zSlide', 'founded_month': 12},\n",
       " {'name': 'LocoGopher', 'founded_month': 6},\n",
       " {'name': 'RecipeMatcher', 'founded_month': 10},\n",
       " {'name': 'Whiskey Media', 'founded_month': 10},\n",
       " {'name': 'alluc', 'founded_month': 6},\n",
       " {'name': 'CondoDomain', 'founded_month': 10},\n",
       " {'name': 'Confabb', 'founded_month': 6},\n",
       " {'name': 'Automattic', 'founded_month': 7},\n",
       " {'name': 'uTest', 'founded_month': 8},\n",
       " {'name': 'Songkick', 'founded_month': 6},\n",
       " {'name': 'Shopatron', 'founded_month': 10},\n",
       " {'name': 'EchoSign', 'founded_month': 7},\n",
       " {'name': 'Buzzwire', 'founded_month': 7},\n",
       " {'name': 'Ubertor', 'founded_month': 6},\n",
       " {'name': 'Crusher', 'founded_month': 9},\n",
       " {'name': 'YowTRIP', 'founded_month': 9},\n",
       " {'name': 'Rollbase', 'founded_month': 8},\n",
       " {'name': 'XLNTads', 'founded_month': 11},\n",
       " {'name': 'All-Scrap', 'founded_month': 10},\n",
       " {'name': 'FeedMorf', 'founded_month': 10},\n",
       " {'name': 'Moko Social Media', 'founded_month': 8},\n",
       " {'name': 'blueKiwi', 'founded_month': 7},\n",
       " {'name': 'Gydget', 'founded_month': 10},\n",
       " {'name': 'Gigya', 'founded_month': 6},\n",
       " {'name': 'Baynote', 'founded_month': 11},\n",
       " {'name': 'YourSports', 'founded_month': 6},\n",
       " {'name': 'Defensio', 'founded_month': 6},\n",
       " {'name': 'Jango', 'founded_month': 11},\n",
       " {'name': 'SezWho', 'founded_month': 10},\n",
       " {'name': 'Qloud', 'founded_month': 11},\n",
       " {'name': 'Pelago', 'founded_month': 12},\n",
       " {'name': 'Upcoming', 'founded_month': 9},\n",
       " {'name': 'DraftMix', 'founded_month': 6},\n",
       " {'name': 'Excite@Home', 'founded_month': 12},\n",
       " {'name': 'Zilok', 'founded_month': 10},\n",
       " {'name': 'Faves', 'founded_month': 12},\n",
       " {'name': 'BrainKeeper', 'founded_month': 10},\n",
       " {'name': 'Evi', 'founded_month': 8},\n",
       " {'name': 'GotCast', 'founded_month': 10},\n",
       " {'name': 'MerchantCircle', 'founded_month': 10},\n",
       " {'name': 'Zmags', 'founded_month': 12},\n",
       " {'name': 'StreetFire', 'founded_month': 6},\n",
       " {'name': 'Zecco', 'founded_month': 7},\n",
       " {'name': 'Congoo', 'founded_month': 7},\n",
       " {'name': 'Jackson Fish Market', 'founded_month': 11},\n",
       " {'name': 'RealSelf', 'founded_month': 10},\n",
       " {'name': 'GeoSentric', 'founded_month': 6},\n",
       " {'name': 'ThriveSmart', 'founded_month': 9},\n",
       " {'name': 'doof', 'founded_month': 9},\n",
       " {'name': 'Bloglines', 'founded_month': 6},\n",
       " {'name': 'OurStage', 'founded_month': 10},\n",
       " {'name': 'GameLayers', 'founded_month': 7},\n",
       " {'name': 'LinkStorm', 'founded_month': 8},\n",
       " {'name': 'Zoji', 'founded_month': 10},\n",
       " {'name': 'Entrecard', 'founded_month': 11},\n",
       " {'name': 'Apprema', 'founded_month': 8},\n",
       " {'name': 'HelpHookup', 'founded_month': 11},\n",
       " {'name': 'Skribit', 'founded_month': 11},\n",
       " {'name': 'ProductWiki', 'founded_month': 6},\n",
       " {'name': 'Hark', 'founded_month': 10},\n",
       " {'name': 'Splunk', 'founded_month': 10},\n",
       " {'name': 'Shutterfly', 'founded_month': 9},\n",
       " {'name': 'Localeze', 'founded_month': 10},\n",
       " {'name': 'Youku', 'founded_month': 12},\n",
       " {'name': 'YouOS', 'founded_month': 12},\n",
       " {'name': 'Sendori', 'founded_month': 8},\n",
       " {'name': 'Adhysteria', 'founded_month': 9},\n",
       " {'name': 'Paltalk', 'founded_month': 6},\n",
       " {'name': 'Songza', 'founded_month': 11},\n",
       " {'name': 'SkreemR Search', 'founded_month': 6},\n",
       " {'name': 'CollegeFanz', 'founded_month': 9},\n",
       " {'name': 'Deezer', 'founded_month': 8},\n",
       " {'name': 'italki', 'founded_month': 7},\n",
       " {'name': 'eyeOS', 'founded_month': 8},\n",
       " {'name': 'Desktoptwo', 'founded_month': 8},\n",
       " {'name': 'MyNeighborhood', 'founded_month': 7},\n",
       " {'name': 'HubSpot', 'founded_month': 6},\n",
       " {'name': 'Utterz', 'founded_month': 9},\n",
       " {'name': 'eventsbot', 'founded_month': 7},\n",
       " {'name': 'Criticker', 'founded_month': 11},\n",
       " {'name': 'Dapper', 'founded_month': 10},\n",
       " {'name': 'ClickTale', 'founded_month': 6},\n",
       " {'name': 'Twipster', 'founded_month': 12},\n",
       " {'name': 'Twenga', 'founded_month': 9},\n",
       " {'name': 'TradeKing', 'founded_month': 12},\n",
       " {'name': 'Viadeo', 'founded_month': 6},\n",
       " {'name': 'Jacked', 'founded_month': 6},\n",
       " {'name': 'Iotum', 'founded_month': 12},\n",
       " {'name': 'eBurl', 'founded_month': 11},\n",
       " {'name': 'Vemo', 'founded_month': 11},\n",
       " {'name': 'Smilebox', 'founded_month': 8},\n",
       " {'name': 'Bahu', 'founded_month': 7},\n",
       " {'name': 'AppJet', 'founded_month': 6},\n",
       " {'name': 'Seethroo', 'founded_month': 7},\n",
       " {'name': 'Summize', 'founded_month': 11},\n",
       " {'name': 'HubPages', 'founded_month': 8},\n",
       " {'name': 'Squidoo', 'founded_month': 10},\n",
       " {'name': 'GoLark', 'founded_month': 8},\n",
       " {'name': 'WeShow', 'founded_month': 6},\n",
       " {'name': 'Qik', 'founded_month': 6},\n",
       " {'name': 'Chictini', 'founded_month': 7},\n",
       " {'name': 'Picktastic', 'founded_month': 10},\n",
       " {'name': 'PlayFirst', 'founded_month': 9},\n",
       " {'name': 'Libersy', 'founded_month': 8},\n",
       " {'name': 'RipCode', 'founded_month': 8},\n",
       " {'name': 'Mobissimo', 'founded_month': 10},\n",
       " {'name': 'Etsy', 'founded_month': 6},\n",
       " {'name': 'Causes', 'founded_month': 9},\n",
       " {'name': 'SnapVillage', 'founded_month': 6},\n",
       " {'name': 'PollDaddy', 'founded_month': 9},\n",
       " {'name': 'Pinger', 'founded_month': 11},\n",
       " {'name': 'Driftr', 'founded_month': 10},\n",
       " {'name': 'Blekko', 'founded_month': 6},\n",
       " {'name': 'jellyfish', 'founded_month': 12},\n",
       " {'name': 'ice', 'founded_month': 9},\n",
       " {'name': 'Workface', 'founded_month': 10},\n",
       " {'name': 'Mogad', 'founded_month': 6},\n",
       " {'name': 'Livemocha', 'founded_month': 9},\n",
       " {'name': 'Mpayy', 'founded_month': 6},\n",
       " {'name': 'fabrik', 'founded_month': 8},\n",
       " {'name': 'CheerOutLoud', 'founded_month': 9},\n",
       " {'name': 'DoYouBuzz', 'founded_month': 8},\n",
       " {'name': 'FamCorner', 'founded_month': 6},\n",
       " {'name': 'AF83', 'founded_month': 11},\n",
       " {'name': 'Zynga', 'founded_month': 7},\n",
       " {'name': 'Enforta', 'founded_month': 10},\n",
       " {'name': 'Smaato', 'founded_month': 8},\n",
       " {'name': 'AnsMart', 'founded_month': 12},\n",
       " {'name': 'Mumboe', 'founded_month': 8},\n",
       " {'name': 'Badoo', 'founded_month': 10},\n",
       " {'name': 'UnLtdWorld', 'founded_month': 10},\n",
       " {'name': 'Scrabulous', 'founded_month': 7},\n",
       " {'name': 'Pornotube', 'founded_month': 7},\n",
       " {'name': 'ReimagineMemories', 'founded_month': 11},\n",
       " {'name': 'XING', 'founded_month': 8},\n",
       " {'name': 'HouseFront', 'founded_month': 10},\n",
       " {'name': 'Bizak', 'founded_month': 11},\n",
       " {'name': 'Lijit Networks', 'founded_month': 6},\n",
       " {'name': 'WorldTV', 'founded_month': 10},\n",
       " {'name': '5pm', 'founded_month': 9},\n",
       " {'name': 'GeoDentist', 'founded_month': 6},\n",
       " {'name': 'Heroku', 'founded_month': 7},\n",
       " {'name': 'Lookery', 'founded_month': 8},\n",
       " {'name': 'comScore', 'founded_month': 8},\n",
       " {'name': 'YouPorn', 'founded_month': 8},\n",
       " {'name': 'TV Shack', 'founded_month': 12},\n",
       " {'name': 'XLR8 Mobile', 'founded_month': 9},\n",
       " {'name': 'Bigsight Media Group', 'founded_month': 9},\n",
       " {'name': 'Sharetivity', 'founded_month': 7},\n",
       " {'name': 'Taptu', 'founded_month': 10},\n",
       " {'name': 'Deal Comet', 'founded_month': 12},\n",
       " {'name': 'Web2Wave', 'founded_month': 9},\n",
       " {'name': 'Maugans Corp', 'founded_month': 9},\n",
       " {'name': 'BreakingPoint Systems', 'founded_month': 8},\n",
       " {'name': 'Reshade', 'founded_month': 7},\n",
       " {'name': 'VisualCV', 'founded_month': 12},\n",
       " {'name': 'HonestMall', 'founded_month': 9},\n",
       " {'name': 'mSpoke', 'founded_month': 6},\n",
       " {'name': 'FutonMedia', 'founded_month': 10},\n",
       " {'name': 'ZiFiMusic', 'founded_month': 11},\n",
       " {'name': 'myfirstpaycheck', 'founded_month': 6},\n",
       " {'name': 'memelabs', 'founded_month': 7},\n",
       " {'name': 'PopShops', 'founded_month': 7},\n",
       " {'name': 'MetaNotes', 'founded_month': 8},\n",
       " {'name': 'MerchantOS', 'founded_month': 8},\n",
       " {'name': 'SimpleFeed', 'founded_month': 6},\n",
       " {'name': 'eNotes', 'founded_month': 8},\n",
       " {'name': 'TripnTale', 'founded_month': 11},\n",
       " {'name': 'Mergelab', 'founded_month': 10},\n",
       " {'name': 'Tvosz', 'founded_month': 7},\n",
       " {'name': 'VentureBeat', 'founded_month': 9},\n",
       " {'name': 'b5media', 'founded_month': 6},\n",
       " {'name': 'Weblogs', 'founded_month': 9},\n",
       " {'name': 'idiomag', 'founded_month': 8},\n",
       " {'name': 'mobileStorm', 'founded_month': 10},\n",
       " {'name': 'TalentSpring', 'founded_month': 10},\n",
       " {'name': 'Metromole', 'founded_month': 10},\n",
       " {'name': 'apivision', 'founded_month': 12},\n",
       " {'name': 'China-8', 'founded_month': 10},\n",
       " {'name': 'Mobiance', 'founded_month': 10},\n",
       " {'name': 'Brownstoner Media', 'founded_month': 10},\n",
       " {'name': 'SpotXchange', 'founded_month': 11},\n",
       " {'name': 'GiveStream', 'founded_month': 6},\n",
       " {'name': 'PlanJam', 'founded_month': 11},\n",
       " {'name': 'Vuzit', 'founded_month': 6},\n",
       " {'name': 'Mixbook', 'founded_month': 8},\n",
       " {'name': 'VisitorNetworks', 'founded_month': 9},\n",
       " {'name': 'GameDuell', 'founded_month': 12},\n",
       " {'name': 'Paglo', 'founded_month': 7},\n",
       " {'name': 'What They Like', 'founded_month': 8},\n",
       " {'name': 'Yodio', 'founded_month': 11},\n",
       " {'name': 'LittleEngine', 'founded_month': 10},\n",
       " {'name': 'stickK', 'founded_month': 7},\n",
       " {'name': 'Cellware', 'founded_month': 12},\n",
       " {'name': 'ManageMyAdvertising', 'founded_month': 10},\n",
       " {'name': 'LyfeSystems', 'founded_month': 9},\n",
       " {'name': 'Kaddoz', 'founded_month': 12},\n",
       " {'name': 'Principal Axis', 'founded_month': 12},\n",
       " {'name': 'eTeacher', 'founded_month': 11},\n",
       " {'name': 'amiando', 'founded_month': 12},\n",
       " {'name': 'SpinSnap', 'founded_month': 7},\n",
       " {'name': 'Qype', 'founded_month': 11},\n",
       " {'name': 'GumGum', 'founded_month': 10},\n",
       " {'name': 'Pivotal Labs', 'founded_month': 7},\n",
       " {'name': 'MyCityFaces', 'founded_month': 12},\n",
       " {'name': 'Clicks2Customers', 'founded_month': 6},\n",
       " {'name': 'Qifang', 'founded_month': 8},\n",
       " {'name': 'PPDai', 'founded_month': 6},\n",
       " {'name': 'PicScout', 'founded_month': 12},\n",
       " {'name': 'UnsubCentral', 'founded_month': 12},\n",
       " {'name': 'openPeople', 'founded_month': 7},\n",
       " {'name': 'ChoiceStream', 'founded_month': 9},\n",
       " {'name': 'GroundReport', 'founded_month': 6},\n",
       " {'name': '2 under entertainment', 'founded_month': 6},\n",
       " {'name': 'LibraryThing', 'founded_month': 8},\n",
       " {'name': 'MomentVille', 'founded_month': 9},\n",
       " {'name': 'TheLadders', 'founded_month': 7},\n",
       " {'name': 'QponDirect', 'founded_month': 12},\n",
       " {'name': 'Fat Goose', 'founded_month': 9},\n",
       " {'name': 'DeaLoco', 'founded_month': 12},\n",
       " {'name': 'LexDex', 'founded_month': 7},\n",
       " {'name': 'Subimage', 'founded_month': 8},\n",
       " {'name': 'MOG', 'founded_month': 6},\n",
       " {'name': 'ShareMethods', 'founded_month': 10},\n",
       " {'name': 'Danger', 'founded_month': 12},\n",
       " {'name': 'Devunity', 'founded_month': 8},\n",
       " {'name': 'AskPoodle', 'founded_month': 9},\n",
       " {'name': 'Scary Ideas', 'founded_month': 11},\n",
       " {'name': 'Skyrove', 'founded_month': 6},\n",
       " {'name': 'Fortify Software', 'founded_month': 10},\n",
       " {'name': 'Planbus', 'founded_month': 10},\n",
       " {'name': 'QuickInsert', 'founded_month': 8},\n",
       " {'name': 'FaceTec', 'founded_month': 9},\n",
       " {'name': 'Sitemasher', 'founded_month': 12},\n",
       " {'name': 'Ownersite Technologies', 'founded_month': 10},\n",
       " {'name': 'fotopedia', 'founded_month': 10},\n",
       " {'name': 'Foneshow', 'founded_month': 9},\n",
       " {'name': 'cScape', 'founded_month': 9},\n",
       " {'name': 'Compulsivo', 'founded_month': 11},\n",
       " {'name': 'ePrep', 'founded_month': 11},\n",
       " {'name': 'YouNoodle', 'founded_month': 7},\n",
       " {'name': 'Los Angeles Times Media Group', 'founded_month': 12},\n",
       " {'name': 'mobikade', 'founded_month': 7},\n",
       " {'name': 'Echobit', 'founded_month': 8},\n",
       " {'name': 'Pollsit', 'founded_month': 12},\n",
       " {'name': 'Group2call', 'founded_month': 10},\n",
       " {'name': 'YouCastr', 'founded_month': 6},\n",
       " {'name': 'GenieTown', 'founded_month': 10},\n",
       " {'name': 'Paprika Lab', 'founded_month': 9},\n",
       " {'name': 'RiffTrax', 'founded_month': 7},\n",
       " {'name': 'Unype', 'founded_month': 10},\n",
       " {'name': 'World Reviewer', 'founded_month': 10},\n",
       " {'name': 'GeniusRocket', 'founded_month': 9},\n",
       " {'name': 'BBC', 'founded_month': 7},\n",
       " {'name': 'MyApartmentMap', 'founded_month': 8},\n",
       " {'name': '8coupons', 'founded_month': 8},\n",
       " {'name': 'Cloudo', 'founded_month': 7},\n",
       " {'name': 'JuicyCampus', 'founded_month': 8},\n",
       " {'name': 'Ad Infuse', 'founded_month': 11},\n",
       " {'name': 'Inform Technologies', 'founded_month': 8},\n",
       " {'name': 'EVO Media Group', 'founded_month': 10},\n",
       " {'name': 'SendMe', 'founded_month': 6},\n",
       " {'name': 'Starfish Community Group', 'founded_month': 7},\n",
       " {'name': 'TripSailor', 'founded_month': 6},\n",
       " {'name': 'Blog Talk Radio', 'founded_month': 7},\n",
       " {'name': 'HealtheHuman', 'founded_month': 8},\n",
       " {'name': 'HealthLat', 'founded_month': 8},\n",
       " {'name': 'Tiny Pictures', 'founded_month': 8},\n",
       " {'name': 'Zorpia', 'founded_month': 7},\n",
       " {'name': 'iRovr', 'founded_month': 6},\n",
       " {'name': 'ooVoo', 'founded_month': 6},\n",
       " {'name': 'Popularo', 'founded_month': 10},\n",
       " {'name': 'Animax Entertainment', 'founded_month': 10},\n",
       " {'name': 'EMOB', 'founded_month': 12},\n",
       " {'name': 'FanDuel', 'founded_month': 11},\n",
       " {'name': 'Evri', 'founded_month': 7},\n",
       " {'name': 'Parametric Ventures', 'founded_month': 8},\n",
       " {'name': 'Gamers Media', 'founded_month': 8},\n",
       " {'name': 'FixSor', 'founded_month': 9},\n",
       " {'name': 'YaData', 'founded_month': 7},\n",
       " {'name': 'NAVIS', 'founded_month': 10},\n",
       " {'name': 'MoFuse', 'founded_month': 9},\n",
       " {'name': 'TolMol', 'founded_month': 10},\n",
       " {'name': 'Quintura', 'founded_month': 8},\n",
       " {'name': 'Qiro', 'founded_month': 11},\n",
       " {'name': 'PayLoadz', 'founded_month': 8},\n",
       " {'name': 'Love2Trade', 'founded_month': 11},\n",
       " {'name': 'QVC', 'founded_month': 11},\n",
       " {'name': 'Sporting Connections', 'founded_month': 11},\n",
       " {'name': 'Volagratis', 'founded_month': 7},\n",
       " {'name': 'MercadoFechado', 'founded_month': 9},\n",
       " {'name': 'homSALE', 'founded_month': 9},\n",
       " {'name': 'Myrimis', 'founded_month': 9},\n",
       " {'name': 'Webtronic', 'founded_month': 7},\n",
       " {'name': 'Aullo', 'founded_month': 9},\n",
       " {'name': 'Folkstr', 'founded_month': 10},\n",
       " {'name': 'Napster', 'founded_month': 6},\n",
       " {'name': \"IT'S ART\", 'founded_month': 8},\n",
       " {'name': 'LouderVoice', 'founded_month': 11},\n",
       " {'name': 'EASEUS', 'founded_month': 8},\n",
       " {'name': 'I-stats', 'founded_month': 10},\n",
       " {'name': 'Sportgenic', 'founded_month': 9},\n",
       " {'name': 'Innofidei', 'founded_month': 9},\n",
       " {'name': 'SEO Intelligence', 'founded_month': 6},\n",
       " {'name': 'Mapicurious', 'founded_month': 6},\n",
       " {'name': 'Printfection', 'founded_month': 7},\n",
       " {'name': 'RingBranch', 'founded_month': 11},\n",
       " {'name': 'Rivals4Ever', 'founded_month': 12},\n",
       " {'name': 'OpenDNS', 'founded_month': 11},\n",
       " {'name': 'Pidgin Technologies', 'founded_month': 6},\n",
       " {'name': 'VZnet Netzwerke', 'founded_month': 10},\n",
       " {'name': 'Asterpix', 'founded_month': 10},\n",
       " {'name': 'Astrails', 'founded_month': 12},\n",
       " {'name': 'LiveHit', 'founded_month': 9},\n",
       " {'name': 'WebRidesTV', 'founded_month': 8},\n",
       " {'name': 'Innovid', 'founded_month': 7},\n",
       " {'name': 'Aidmas Corporation', 'founded_month': 8},\n",
       " {'name': 'Kulabyte', 'founded_month': 11},\n",
       " {'name': 'Rutube', 'founded_month': 11},\n",
       " {'name': 'Feng-GUI', 'founded_month': 11},\n",
       " {'name': 'Footnote', 'founded_month': 6},\n",
       " {'name': 'Akoha', 'founded_month': 12},\n",
       " {'name': 'BrightSide Software', 'founded_month': 6},\n",
       " {'name': 'doXtop', 'founded_month': 7},\n",
       " {'name': 'PacketFront', 'founded_month': 8},\n",
       " {'name': 'Zicasso', 'founded_month': 6},\n",
       " {'name': 'JigJak', 'founded_month': 7},\n",
       " {'name': 'Litmos', 'founded_month': 8},\n",
       " {'name': 'Ad Chap', 'founded_month': 7},\n",
       " {'name': 'The FeedRoom', 'founded_month': 9},\n",
       " {'name': 'SportsUltra', 'founded_month': 9},\n",
       " {'name': 'Mobenga', 'founded_month': 12},\n",
       " {'name': 'Janrain', 'founded_month': 9},\n",
       " {'name': 'SearchMe', 'founded_month': 7},\n",
       " {'name': 'Tokiva Technologies', 'founded_month': 9},\n",
       " {'name': 'Global Roaming', 'founded_month': 8},\n",
       " {'name': 'Panizon', 'founded_month': 9},\n",
       " {'name': 'Discovery Engine', 'founded_month': 6},\n",
       " {'name': 'Revolution Health', 'founded_month': 7},\n",
       " {'name': 'Zooors Interactive Yachting Society', 'founded_month': 11},\n",
       " {'name': 'Sazze', 'founded_month': 7},\n",
       " {'name': 'Norg Media', 'founded_month': 8},\n",
       " {'name': 'Eyealike', 'founded_month': 10},\n",
       " {'name': 'Skydeck', 'founded_month': 12},\n",
       " {'name': 'JobThread', 'founded_month': 11},\n",
       " {'name': 'Snaptalent', 'founded_month': 11},\n",
       " {'name': 'Twhirl', 'founded_month': 11},\n",
       " {'name': 'TeamWork Live', 'founded_month': 10},\n",
       " {'name': 'Daikana', 'founded_month': 10},\n",
       " {'name': 'CrewedUp', 'founded_month': 6},\n",
       " {'name': 'Three Innovators', 'founded_month': 6},\n",
       " {'name': 'Weplug', 'founded_month': 12},\n",
       " {'name': 'Arclight Media Technology', 'founded_month': 11},\n",
       " {'name': '500 Hats', 'founded_month': 9},\n",
       " {'name': 'Voltage Security', 'founded_month': 6},\n",
       " {'name': 'SupplyFrame', 'founded_month': 6},\n",
       " {'name': 'Authenticlick', 'founded_month': 8},\n",
       " {'name': 'GasBuddy', 'founded_month': 6},\n",
       " {'name': 'Playfish', 'founded_month': 10},\n",
       " {'name': 'CitySquares', 'founded_month': 8},\n",
       " {'name': 'Qlubb', 'founded_month': 9},\n",
       " {'name': 'Coordinatr', 'founded_month': 9},\n",
       " {'name': 'Snipshot', 'founded_month': 12},\n",
       " {'name': 'MyDogSpace', 'founded_month': 8},\n",
       " {'name': 'The Friday Pint Ltd', 'founded_month': 7},\n",
       " {'name': 'Akampus', 'founded_month': 9},\n",
       " {'name': 'Toufee', 'founded_month': 7},\n",
       " {'name': 'Slicethepie', 'founded_month': 6},\n",
       " {'name': 'MyTrade', 'founded_month': 8},\n",
       " {'name': 'Taaz', 'founded_month': 7},\n",
       " {'name': 'BMC Software', 'founded_month': 9},\n",
       " {'name': 'SIMchronise', 'founded_month': 9},\n",
       " {'name': 'FASTALLEY', 'founded_month': 11},\n",
       " {'name': 'Dadaphile', 'founded_month': 6},\n",
       " {'name': 'Eatup Drinkup', 'founded_month': 11},\n",
       " {'name': 'Moblica', 'founded_month': 7},\n",
       " {'name': 'Zebtab', 'founded_month': 8},\n",
       " {'name': 'Music Arsenal', 'founded_month': 12},\n",
       " {'name': 'XIHA', 'founded_month': 9},\n",
       " {'name': 'Shvoong', 'founded_month': 8},\n",
       " {'name': 'tunesBag', 'founded_month': 10},\n",
       " {'name': 'BroadSoft', 'founded_month': 9},\n",
       " {'name': 'Public Domain Archive and Reprints Service', 'founded_month': 11},\n",
       " {'name': 'FuelMyBlog', 'founded_month': 7},\n",
       " {'name': 'AnchorFree', 'founded_month': 11},\n",
       " {'name': 'Sonecast', 'founded_month': 7},\n",
       " {'name': 'Infibeam', 'founded_month': 7},\n",
       " {'name': 'OrangeSoda', 'founded_month': 10},\n",
       " {'name': 'CJReport', 'founded_month': 8},\n",
       " {'name': 'Webreakstuff', 'founded_month': 6},\n",
       " {'name': 'DevHD', 'founded_month': 11},\n",
       " {'name': 'Devolia', 'founded_month': 9},\n",
       " {'name': 'Wellwrittenwords', 'founded_month': 6},\n",
       " {'name': 'Raw Signal', 'founded_month': 12},\n",
       " {'name': 'Infovark', 'founded_month': 10},\n",
       " {'name': 'RelevantMind', 'founded_month': 10},\n",
       " {'name': 'GotVoice', 'founded_month': 10},\n",
       " {'name': 'BlogFlux', 'founded_month': 7},\n",
       " {'name': 'Notches', 'founded_month': 12},\n",
       " {'name': 'DeliciousSafari', 'founded_month': 7},\n",
       " {'name': 'iHound Software', 'founded_month': 8},\n",
       " {'name': 'babbel', 'founded_month': 8},\n",
       " {'name': 'Parature', 'founded_month': 6},\n",
       " {'name': 'Domegos', 'founded_month': 8},\n",
       " {'name': 'itbreaks', 'founded_month': 6},\n",
       " {'name': 'SeatNation', 'founded_month': 11},\n",
       " {'name': 'Zigtag', 'founded_month': 10},\n",
       " {'name': 'Wikimedia Foundation', 'founded_month': 6},\n",
       " {'name': 'Clearwell Systems', 'founded_month': 12},\n",
       " {'name': 'AsesorSeguros', 'founded_month': 9},\n",
       " {'name': 'BlueCat Networks', 'founded_month': 12},\n",
       " {'name': 'TriValleyBook', 'founded_month': 8},\n",
       " {'name': 'The Echo Nest', 'founded_month': 7},\n",
       " {'name': 'Zemanta', 'founded_month': 9},\n",
       " {'name': 'Social Sauce', 'founded_month': 6},\n",
       " {'name': 'iovation', 'founded_month': 6},\n",
       " {'name': 'Mindpark', 'founded_month': 9},\n",
       " {'name': 'Bango', 'founded_month': 10},\n",
       " {'name': 'Glassdoor', 'founded_month': 6},\n",
       " {'name': 'Faraday Media', 'founded_month': 6},\n",
       " {'name': '31000emploi', 'founded_month': 8},\n",
       " {'name': 'ki work', 'founded_month': 11},\n",
       " {'name': 'Pressflip', 'founded_month': 6},\n",
       " {'name': 'Skycore', 'founded_month': 11},\n",
       " {'name': 'Fresho', 'founded_month': 10},\n",
       " {'name': 'Get the Point', 'founded_month': 9},\n",
       " {'name': 'Berkeley Design Automation', 'founded_month': 10},\n",
       " {'name': 'itzbig', 'founded_month': 6},\n",
       " {'name': 'Toluu', 'founded_month': 9},\n",
       " {'name': 'Achievers Point Knowledge Systems', 'founded_month': 9},\n",
       " {'name': 'Bonobos', 'founded_month': 6},\n",
       " {'name': 'NoseRub', 'founded_month': 8},\n",
       " {'name': 'Vello', 'founded_month': 9},\n",
       " {'name': '3Tera', 'founded_month': 8},\n",
       " {'name': 'Edmodo', 'founded_month': 9},\n",
       " {'name': 'Noovo', 'founded_month': 8},\n",
       " {'name': 'ZEDO', 'founded_month': 11},\n",
       " {'name': 'Spongecell', 'founded_month': 9},\n",
       " {'name': 'Franson Technology AB', 'founded_month': 6},\n",
       " {'name': 'Phototeez', 'founded_month': 6},\n",
       " {'name': 'Adlucent', 'founded_month': 7},\n",
       " {'name': 'CapAlly', 'founded_month': 6},\n",
       " {'name': 'Metaversum', 'founded_month': 7},\n",
       " {'name': 'Naubo', 'founded_month': 6},\n",
       " {'name': 'Familybuilder', 'founded_month': 6},\n",
       " {'name': 'Kudzu', 'founded_month': 6},\n",
       " {'name': 'TheNextBigWriter', 'founded_month': 10},\n",
       " {'name': 'RiDE Group', 'founded_month': 11},\n",
       " {'name': 'CarDomain Network', 'founded_month': 9},\n",
       " {'name': 'TagLauncher', 'founded_month': 12},\n",
       " {'name': 'Kublax', 'founded_month': 8},\n",
       " {'name': 'Topspin Media', 'founded_month': 6},\n",
       " {'name': 'Nota', 'founded_month': 12},\n",
       " {'name': 'MaybeMike', 'founded_month': 11},\n",
       " {'name': '51 Give', 'founded_month': 9},\n",
       " {'name': 'HRSnap! Corporation', 'founded_month': 10},\n",
       " {'name': 'Babuki', 'founded_month': 9},\n",
       " {'name': 'Myplaylist', 'founded_month': 10},\n",
       " {'name': 'MyWellnessSpace', 'founded_month': 12},\n",
       " {'name': 'TripSay', 'founded_month': 9},\n",
       " {'name': 'GroupSpaces', 'founded_month': 10},\n",
       " {'name': 'South Park Studios', 'founded_month': 8},\n",
       " {'name': 'Zong', 'founded_month': 11},\n",
       " {'name': 'HelpMeSue', 'founded_month': 12},\n",
       " {'name': 'Odeo', 'founded_month': 7},\n",
       " {'name': 'Simkl', 'founded_month': 12},\n",
       " {'name': 'Pure Digital Technologies', 'founded_month': 9},\n",
       " {'name': 'Axosoft', 'founded_month': 8},\n",
       " {'name': 'SoftLogica', 'founded_month': 6},\n",
       " {'name': 'Trellon', 'founded_month': 8},\n",
       " {'name': 'Coull', 'founded_month': 10},\n",
       " {'name': 'andUNITE', 'founded_month': 9},\n",
       " {'name': 'Huddle', 'founded_month': 11},\n",
       " {'name': 'Trampoline Systems', 'founded_month': 10},\n",
       " {'name': 'Omnistar Interactive', 'founded_month': 7},\n",
       " {'name': 'SiBEAM', 'founded_month': 12},\n",
       " {'name': '83 Degrees', 'founded_month': 10},\n",
       " {'name': 'Baidu', 'founded_month': 10},\n",
       " {'name': 'Vivity Labs', 'founded_month': 12},\n",
       " {'name': 'Open Source Living', 'founded_month': 12},\n",
       " {'name': 'Support Intelligence', 'founded_month': 10},\n",
       " {'name': 'Boxbe', 'founded_month': 12},\n",
       " {'name': 'Honeypot Marketing', 'founded_month': 12},\n",
       " {'name': 'Octeth', 'founded_month': 11},\n",
       " {'name': 'SYIANT technologies', 'founded_month': 7},\n",
       " {'name': 'Artabase', 'founded_month': 12},\n",
       " {'name': 'Acme Mobile', 'founded_month': 10},\n",
       " {'name': 'Moviestorm', 'founded_month': 6},\n",
       " {'name': 'Nsyght', 'founded_month': 6},\n",
       " {'name': 'Fourth Media Technologies', 'founded_month': 8},\n",
       " {'name': 'GreatDomainRace', 'founded_month': 10},\n",
       " {'name': 'Labmeeting', 'founded_month': 7},\n",
       " {'name': 'Shopflick', 'founded_month': 7},\n",
       " {'name': 'Trovit', 'founded_month': 10},\n",
       " {'name': 'Reach Machines', 'founded_month': 9},\n",
       " {'name': 'Berro', 'founded_month': 9},\n",
       " {'name': 'iKnowlej', 'founded_month': 7},\n",
       " {'name': 'LocalWineEvents', 'founded_month': 7},\n",
       " {'name': 'Palamida', 'founded_month': 12},\n",
       " {'name': 'British Telecom', 'founded_month': 10},\n",
       " {'name': 'myTino', 'founded_month': 8},\n",
       " {'name': 'CVN Networks', 'founded_month': 10},\n",
       " {'name': 'ProcServe', 'founded_month': 8},\n",
       " {'name': 'OnOneMap', 'founded_month': 8},\n",
       " {'name': 'HealthWorldWeb', 'founded_month': 6},\n",
       " {'name': 'Janmedia Interactive', 'founded_month': 6},\n",
       " {'name': 'Park Sidekick', 'founded_month': 6},\n",
       " {'name': 'Pipl', 'founded_month': 12},\n",
       " {'name': 'walabok', 'founded_month': 11},\n",
       " {'name': 'Plexonic', 'founded_month': 11},\n",
       " {'name': 'MEDgle', 'founded_month': 9},\n",
       " {'name': 'Picoy', 'founded_month': 10},\n",
       " {'name': 'The Beer Mapping Project', 'founded_month': 10},\n",
       " {'name': 'Iminent', 'founded_month': 10},\n",
       " {'name': 'BMAT', 'founded_month': 12},\n",
       " {'name': 'SOSIUS', 'founded_month': 9},\n",
       " {'name': 'Mercury Intermedia', 'founded_month': 10},\n",
       " {'name': 'BizRate', 'founded_month': 6},\n",
       " {'name': 'Strutta', 'founded_month': 6},\n",
       " {'name': 'DataPortability', 'founded_month': 11},\n",
       " {'name': 'PhoneFavs', 'founded_month': 12},\n",
       " {'name': 'ImageShack', 'founded_month': 11},\n",
       " {'name': 'Beep Interactive', 'founded_month': 9},\n",
       " {'name': 'PluggedIn', 'founded_month': 8},\n",
       " {'name': 'AdShuffle', 'founded_month': 12},\n",
       " {'name': 'Red Oxygen', 'founded_month': 7},\n",
       " {'name': 'W3Counter', 'founded_month': 6},\n",
       " {'name': 'imcandy', 'founded_month': 6},\n",
       " {'name': 'Pixifi', 'founded_month': 7},\n",
       " {'name': 'Whois', 'founded_month': 10},\n",
       " {'name': 'Apture', 'founded_month': 6},\n",
       " {'name': 'Soocial', 'founded_month': 11},\n",
       " {'name': 'Daptiv', 'founded_month': 6},\n",
       " {'name': 'SocialSplash', 'founded_month': 12},\n",
       " {'name': 'Medioh!', 'founded_month': 9},\n",
       " {'name': 'PetBrags', 'founded_month': 8},\n",
       " {'name': 'Beer Universe', 'founded_month': 12},\n",
       " {'name': 'SaneBull', 'founded_month': 8},\n",
       " {'name': 'IdiotsTrafficSchool', 'founded_month': 9},\n",
       " {'name': 'BubbleShare', 'founded_month': 6},\n",
       " {'name': 'ReVou', 'founded_month': 12},\n",
       " {'name': 'Drop Magazine', 'founded_month': 8},\n",
       " {'name': 'Dial Plus', 'founded_month': 12},\n",
       " {'name': 'TeachStreet', 'founded_month': 6},\n",
       " {'name': 'Muxlim', 'founded_month': 11},\n",
       " {'name': 'ForteMall', 'founded_month': 7},\n",
       " {'name': 'ChickAdvisor', 'founded_month': 7},\n",
       " {'name': 'Wayfair', 'founded_month': 8},\n",
       " {'name': '3tailer', 'founded_month': 12},\n",
       " {'name': 'StoryMash', 'founded_month': 11},\n",
       " {'name': 'venyoo', 'founded_month': 9},\n",
       " {'name': 'Rankopedia', 'founded_month': 6},\n",
       " {'name': 'Fog Creek Software', 'founded_month': 9},\n",
       " {'name': 'Vegtaste', 'founded_month': 12},\n",
       " {'name': 'BuildDirect', 'founded_month': 7},\n",
       " {'name': 'Exago', 'founded_month': 7},\n",
       " {'name': 'Omnivents', 'founded_month': 11},\n",
       " {'name': 'Interarbor Solutions', 'founded_month': 7},\n",
       " {'name': 'Bizooki', 'founded_month': 10},\n",
       " {'name': 'Superblock', 'founded_month': 10},\n",
       " {'name': 'Lemonade', 'founded_month': 9},\n",
       " {'name': 'Aardvark', 'founded_month': 7},\n",
       " {'name': 'Piwik', 'founded_month': 9},\n",
       " {'name': 'SuperVirals', 'founded_month': 10},\n",
       " {'name': 'Flaptor', 'founded_month': 12},\n",
       " {'name': 'iSquare', 'founded_month': 9},\n",
       " {'name': 'SQLstream', 'founded_month': 12},\n",
       " {'name': 'PurpleTrail', 'founded_month': 11},\n",
       " {'name': 'Viewzi', 'founded_month': 12},\n",
       " {'name': 'Voices', 'founded_month': 10},\n",
       " {'name': 'Triggit', 'founded_month': 10},\n",
       " {'name': 'PIER Systems', 'founded_month': 8},\n",
       " {'name': 'YouBeats', 'founded_month': 12},\n",
       " {'name': 'RateBuilding', 'founded_month': 12},\n",
       " {'name': 'Savvy Circle', 'founded_month': 11},\n",
       " {'name': 'Presdo', 'founded_month': 7},\n",
       " {'name': 'Android', 'founded_month': 10},\n",
       " {'name': 'FreedomSpeaks', 'founded_month': 11},\n",
       " {'name': 'Zigron', 'founded_month': 11},\n",
       " {'name': 'Jetcost', 'founded_month': 6},\n",
       " {'name': 'Wordie', 'founded_month': 11},\n",
       " {'name': 'TuneWiki', 'founded_month': 12},\n",
       " {'name': 'Amanager', 'founded_month': 9},\n",
       " {'name': 'Estately', 'founded_month': 12},\n",
       " {'name': 'Springleap', 'founded_month': 8},\n",
       " {'name': 'Youcode', 'founded_month': 8},\n",
       " {'name': 'URockHard', 'founded_month': 11},\n",
       " {'name': 'Adify', 'founded_month': 8},\n",
       " {'name': 'Techrigy', 'founded_month': 6},\n",
       " {'name': 'Lingoloopy', 'founded_month': 9},\n",
       " {'name': 'Kabam', 'founded_month': 11},\n",
       " {'name': 'Profy', 'founded_month': 9},\n",
       " {'name': 'TraceWorks', 'founded_month': 10},\n",
       " {'name': 'mappery', 'founded_month': 7},\n",
       " {'name': 'UNYK', 'founded_month': 9},\n",
       " {'name': 'BioWizard', 'founded_month': 8},\n",
       " {'name': 'Syncplicity', 'founded_month': 11},\n",
       " {'name': 'AVIS eSolutions', 'founded_month': 9},\n",
       " {'name': 'Streamzy', 'founded_month': 11},\n",
       " {'name': 'Luminotes', 'founded_month': 8},\n",
       " {'name': 'Voices in Business', 'founded_month': 11},\n",
       " {'name': 'Phonewire', 'founded_month': 8},\n",
       " {'name': 'Diabetic Days', 'founded_month': 9},\n",
       " {'name': 'Gimeney', 'founded_month': 9},\n",
       " {'name': 'HyperCalc', 'founded_month': 12},\n",
       " {'name': 'The Ad Database', 'founded_month': 12},\n",
       " {'name': 'MakeUseOf', 'founded_month': 6},\n",
       " {'name': 'Danogo', 'founded_month': 10},\n",
       " {'name': 'Opsware', 'founded_month': 9},\n",
       " {'name': 'Empire Group', 'founded_month': 10},\n",
       " {'name': 'Zeer', 'founded_month': 6},\n",
       " {'name': 'Memopal', 'founded_month': 10},\n",
       " {'name': 'svcmart', 'founded_month': 7},\n",
       " {'name': 'FantasyBook', 'founded_month': 12},\n",
       " {'name': 'Conenza', 'founded_month': 10},\n",
       " {'name': 'Fanzter', 'founded_month': 6},\n",
       " {'name': 'Neutralize', 'founded_month': 9},\n",
       " {'name': 'MediResource', 'founded_month': 6},\n",
       " {'name': 'Phi Media', 'founded_month': 9},\n",
       " {'name': 'onebluebrick', 'founded_month': 6},\n",
       " {'name': 'ChatAny', 'founded_month': 8},\n",
       " {'name': 'Traffic Broker', 'founded_month': 8},\n",
       " {'name': 'Talend', 'founded_month': 9},\n",
       " {'name': 'ESPN', 'founded_month': 9},\n",
       " {'name': 'Telenav', 'founded_month': 9},\n",
       " {'name': 'FirstString', 'founded_month': 8},\n",
       " {'name': 'Musopen', 'founded_month': 6},\n",
       " {'name': 'twidox', 'founded_month': 11},\n",
       " {'name': 'zweitgeist', 'founded_month': 6},\n",
       " {'name': 'allyve', 'founded_month': 9},\n",
       " {'name': 'Your Survival', 'founded_month': 10},\n",
       " {'name': 'locr', 'founded_month': 9},\n",
       " {'name': 'RouteNote', 'founded_month': 8},\n",
       " {'name': 'Andera', 'founded_month': 6},\n",
       " {'name': 'Boulevard R', 'founded_month': 6},\n",
       " {'name': 'The Motley Fool', 'founded_month': 7},\n",
       " {'name': 'WebVet', 'founded_month': 11},\n",
       " {'name': 'RupeeTimes', 'founded_month': 9},\n",
       " {'name': 'SEO Workers', 'founded_month': 10},\n",
       " {'name': 'CTAB Mortgage Desk', 'founded_month': 8},\n",
       " {'name': 'Picitup', 'founded_month': 8},\n",
       " {'name': 'Facilitas', 'founded_month': 8},\n",
       " {'name': 'KangarooBox', 'founded_month': 8},\n",
       " {'name': 'TuneUp', 'founded_month': 8},\n",
       " {'name': 'Textensor', 'founded_month': 12},\n",
       " {'name': 'Squace', 'founded_month': 9},\n",
       " {'name': 'Mozes', 'founded_month': 6},\n",
       " {'name': 'rVita', 'founded_month': 7},\n",
       " {'name': 'OpenSocial Foundation', 'founded_month': 11},\n",
       " {'name': 'findingDulcinea', 'founded_month': 9},\n",
       " {'name': 'Weeno Media', 'founded_month': 6},\n",
       " {'name': 'DealQUE', 'founded_month': 12},\n",
       " {'name': 'Futurlink', 'founded_month': 6},\n",
       " {'name': 'Hypertag', 'founded_month': 8},\n",
       " {'name': 'Dezide', 'founded_month': 12},\n",
       " {'name': 'Hobnox', 'founded_month': 12},\n",
       " {'name': 'Cognition Technologies', 'founded_month': 9},\n",
       " {'name': 'Cellity', 'founded_month': 10},\n",
       " {'name': 'OleOle', 'founded_month': 12},\n",
       " {'name': 'TerraPass', 'founded_month': 10},\n",
       " {'name': 'BusinessCard2', 'founded_month': 8},\n",
       " {'name': 'Sometrics', 'founded_month': 9},\n",
       " {'name': 'Crowded Games', 'founded_month': 6},\n",
       " {'name': 'U Sphere', 'founded_month': 7},\n",
       " {'name': 'deviantART', 'founded_month': 8},\n",
       " {'name': 'mpw Technologies', 'founded_month': 12},\n",
       " {'name': 'JustMeans', 'founded_month': 10},\n",
       " {'name': 'The Travel Editor', 'founded_month': 8},\n",
       " {'name': 'WrapMail', 'founded_month': 10},\n",
       " {'name': 'Crunchlabz', 'founded_month': 6},\n",
       " {'name': 'mywaves', 'founded_month': 12},\n",
       " {'name': 'NextBio', 'founded_month': 11},\n",
       " {'name': 'Zoosk', 'founded_month': 11},\n",
       " {'name': 'Aprius', 'founded_month': 6},\n",
       " {'name': 'Pixaria', 'founded_month': 10},\n",
       " {'name': 'Bluetise', 'founded_month': 8},\n",
       " {'name': 'WujWuj', 'founded_month': 7},\n",
       " {'name': 'CityHubb', 'founded_month': 12},\n",
       " {'name': 'Elite Renting', 'founded_month': 11},\n",
       " {'name': 'Viridus', 'founded_month': 12},\n",
       " {'name': 'adflyer', 'founded_month': 9},\n",
       " {'name': 'ITSportsNet', 'founded_month': 11},\n",
       " {'name': 'GameFly', 'founded_month': 11},\n",
       " {'name': 'Flixya', 'founded_month': 7},\n",
       " {'name': 'Aster Data Systems', 'founded_month': 7},\n",
       " {'name': 'OmniTI', 'founded_month': 9},\n",
       " {'name': 'Global Business Development Services', 'founded_month': 10},\n",
       " {'name': 'Roku', 'founded_month': 10},\n",
       " {'name': 'Yandex', 'founded_month': 9},\n",
       " {'name': 'Batipi', 'founded_month': 11},\n",
       " {'name': 'Sonico', 'founded_month': 7},\n",
       " {'name': 'SmallWorlds', 'founded_month': 12},\n",
       " {'name': 'Stagevu', 'founded_month': 11},\n",
       " {'name': 'Jitterbit', 'founded_month': 12},\n",
       " {'name': 'Symora Networks', 'founded_month': 7},\n",
       " {'name': 'Global Property Guide', 'founded_month': 6},\n",
       " {'name': 'Locify', 'founded_month': 10},\n",
       " {'name': 'RabbleDabble', 'founded_month': 10},\n",
       " {'name': 'PeopleAhead', 'founded_month': 6},\n",
       " {'name': 'GlobeShooter', 'founded_month': 8},\n",
       " {'name': 'CompareNetworks', 'founded_month': 7},\n",
       " {'name': 'Sxip Identity', 'founded_month': 10},\n",
       " {'name': 'sph3re', 'founded_month': 8},\n",
       " {'name': 'Dotmenu', 'founded_month': 9},\n",
       " {'name': 'Open Television Network', 'founded_month': 8},\n",
       " {'name': 'CarArt', 'founded_month': 6},\n",
       " {'name': 'Zecter', 'founded_month': 6},\n",
       " {'name': 'Votigo', 'founded_month': 7},\n",
       " {'name': 'iBiz Software', 'founded_month': 6},\n",
       " {'name': 'C4Media', 'founded_month': 10},\n",
       " {'name': 'iWin', 'founded_month': 8},\n",
       " {'name': 'Savvy Cellar Wines', 'founded_month': 12},\n",
       " {'name': 'B3 Software', 'founded_month': 6},\n",
       " {'name': 'urlBorg', 'founded_month': 11},\n",
       " {'name': 'InterGraphicDESIGNS', 'founded_month': 8},\n",
       " {'name': 'Pangaeaa Enterprises', 'founded_month': 11},\n",
       " {'name': 'PurePlay', 'founded_month': 11},\n",
       " {'name': 'Aruspex', 'founded_month': 12},\n",
       " {'name': 'Oxynade', 'founded_month': 10},\n",
       " {'name': 'Jowba', 'founded_month': 11},\n",
       " {'name': 'BipBip', 'founded_month': 6},\n",
       " {'name': 'Southern Growth Studio', 'founded_month': 11},\n",
       " {'name': 'Propertyqube', 'founded_month': 12},\n",
       " {'name': 'Agent Shield Technologies', 'founded_month': 7},\n",
       " {'name': 'Enterprise Concept', 'founded_month': 11},\n",
       " {'name': 'Handmark', 'founded_month': 7},\n",
       " {'name': 'Market Sentinel', 'founded_month': 9},\n",
       " {'name': 'Fabric Interactive', 'founded_month': 8},\n",
       " {'name': 'The Television Writers Vault', 'founded_month': 6},\n",
       " {'name': 'Aedgency', 'founded_month': 11},\n",
       " {'name': 'UNIFLIP', 'founded_month': 8},\n",
       " {'name': 'FliteHaus Creative Agency', 'founded_month': 7},\n",
       " {'name': 'Jambool', 'founded_month': 8},\n",
       " {'name': 'DigiSynd', 'founded_month': 6},\n",
       " {'name': 'FanDriveMedia', 'founded_month': 12},\n",
       " {'name': 'Versaly Entertainment', 'founded_month': 10},\n",
       " {'name': 'MicroGiving', 'founded_month': 11},\n",
       " {'name': 'Hive7', 'founded_month': 6},\n",
       " {'name': 'SRI International', 'founded_month': 11},\n",
       " {'name': 'Ipoki', 'founded_month': 12},\n",
       " {'name': 'Camp BizSmart', 'founded_month': 9},\n",
       " {'name': 'Niwango', 'founded_month': 11},\n",
       " {'name': 'Quividi', 'founded_month': 7},\n",
       " {'name': 'OneScreen', 'founded_month': 10},\n",
       " {'name': 'snuzu', 'founded_month': 6},\n",
       " {'name': 'ArtistData', 'founded_month': 7},\n",
       " {'name': 'PageUp People', 'founded_month': 10},\n",
       " {'name': 'Cypal Solutions', 'founded_month': 8},\n",
       " {'name': 'Jigsaw', 'founded_month': 10},\n",
       " {'name': 'NetProspex', 'founded_month': 11},\n",
       " {'name': 'DriverSide', 'founded_month': 9},\n",
       " {'name': 'Inertia Beverage Group', 'founded_month': 10},\n",
       " {'name': 'TuneCore', 'founded_month': 11},\n",
       " {'name': 'Open-E', 'founded_month': 9},\n",
       " {'name': 'Cheehee', 'founded_month': 6},\n",
       " {'name': 'CCP Games', 'founded_month': 6},\n",
       " {'name': 'WSO2', 'founded_month': 8},\n",
       " {'name': 'Crowd Science', 'founded_month': 12},\n",
       " {'name': 'MarketSimplified', 'founded_month': 6},\n",
       " {'name': 'SightWorks', 'founded_month': 9},\n",
       " {'name': 'Zacsoft', 'founded_month': 6},\n",
       " {'name': 'Dizzywood', 'founded_month': 11},\n",
       " {'name': 'DotSpots', 'founded_month': 9},\n",
       " {'name': 'Limbo', 'founded_month': 10},\n",
       " {'name': 'CohesiveFT', 'founded_month': 7},\n",
       " {'name': 'Coolboysoft', 'founded_month': 10},\n",
       " {'name': 'Macronimous Web Solutions', 'founded_month': 12},\n",
       " {'name': 'Majides', 'founded_month': 12},\n",
       " {'name': 'TickerHound', 'founded_month': 6},\n",
       " {'name': 'StreamFocus', 'founded_month': 11},\n",
       " {'name': 'ArcStone Technologies', 'founded_month': 6},\n",
       " {'name': 'CGI Group', 'founded_month': 6},\n",
       " {'name': 'Prospection', 'founded_month': 9},\n",
       " {'name': 'Intelliworks', 'founded_month': 12},\n",
       " {'name': 'Jungle Jam Tv', 'founded_month': 10},\n",
       " {'name': 'feedbackZone', 'founded_month': 6},\n",
       " {'name': 'Afrizi', 'founded_month': 6},\n",
       " {'name': 'iePlexus', 'founded_month': 9},\n",
       " {'name': 'SpaBoom', 'founded_month': 8},\n",
       " {'name': 'Muecs', 'founded_month': 10},\n",
       " {'name': 'Capterra', 'founded_month': 11},\n",
       " {'name': 'Openfilm', 'founded_month': 11},\n",
       " {'name': 'uCubd', 'founded_month': 9},\n",
       " {'name': 'MyGreat', 'founded_month': 7},\n",
       " {'name': 'SquareClock', 'founded_month': 12},\n",
       " {'name': 'MyPronostic', 'founded_month': 8}]"
      ]
     },
     "execution_count": 33,
     "metadata": {},
     "output_type": "execute_result"
    }
   ],
   "source": [
    "list(collection.find(filtro11,proyeccion11).limit(1000))"
   ]
  },
  {
   "cell_type": "markdown",
   "metadata": {},
   "source": [
    "### 12. All the companies founded before 2000 that have an acquisition amount of more than 10.000.00"
   ]
  },
  {
   "cell_type": "code",
   "execution_count": 34,
   "metadata": {},
   "outputs": [],
   "source": [
    "#Definiendo las variables\n",
    "filtro12 = {\"founded_year\":{\"$lte\":2000}, \"acquisition.price_amount\":{\"$gt\":10000000}}\n",
    "proyeccion12 = {\"_id\":0, \"name\":1, \"acquisition.price_amount\":1, \"founded_year\":1}"
   ]
  },
  {
   "cell_type": "markdown",
   "metadata": {},
   "source": [
    "Respuesta"
   ]
  },
  {
   "cell_type": "code",
   "execution_count": 35,
   "metadata": {},
   "outputs": [
    {
     "data": {
      "text/plain": [
       "[{'name': 'Postini',\n",
       "  'founded_year': 1999,\n",
       "  'acquisition': {'price_amount': 625000000}},\n",
       " {'name': 'SideStep',\n",
       "  'founded_year': 1999,\n",
       "  'acquisition': {'price_amount': 180000000}},\n",
       " {'name': 'Recipezaar',\n",
       "  'founded_year': 1999,\n",
       "  'acquisition': {'price_amount': 25000000}},\n",
       " {'name': 'PayPal',\n",
       "  'founded_year': 1998,\n",
       "  'acquisition': {'price_amount': 1500000000}},\n",
       " {'name': 'Snapfish',\n",
       "  'founded_year': 1999,\n",
       "  'acquisition': {'price_amount': 300000000}},\n",
       " {'name': 'Neopets',\n",
       "  'founded_year': 1999,\n",
       "  'acquisition': {'price_amount': 160000000}},\n",
       " {'name': 'Sun Microsystems',\n",
       "  'founded_year': 1982,\n",
       "  'acquisition': {'price_amount': 7400000000}},\n",
       " {'name': 'Zappos',\n",
       "  'founded_year': 1999,\n",
       "  'acquisition': {'price_amount': 1200000000}},\n",
       " {'name': 'Alibaba',\n",
       "  'founded_year': 1999,\n",
       "  'acquisition': {'price_amount': 1000000000}},\n",
       " {'name': 'Sabre',\n",
       "  'founded_year': 1960,\n",
       "  'acquisition': {'price_amount': 4300000000}},\n",
       " {'name': 'Lastminute',\n",
       "  'founded_year': 1998,\n",
       "  'acquisition': {'price_amount': 1008000000}},\n",
       " {'name': 'Sportsline',\n",
       "  'founded_year': 1994,\n",
       "  'acquisition': {'price_amount': 64000000}},\n",
       " {'name': 'Digitas',\n",
       "  'founded_year': 1980,\n",
       "  'acquisition': {'price_amount': 1300000000}},\n",
       " {'name': 'Webshots',\n",
       "  'founded_year': 1995,\n",
       "  'acquisition': {'price_amount': 71000000}},\n",
       " {'name': 'Espotting',\n",
       "  'founded_year': 2000,\n",
       "  'acquisition': {'price_amount': 171600000}}]"
      ]
     },
     "execution_count": 35,
     "metadata": {},
     "output_type": "execute_result"
    }
   ],
   "source": [
    "list(collection.find(filtro12,proyeccion12).limit(15))"
   ]
  },
  {
   "cell_type": "markdown",
   "metadata": {},
   "source": [
    "### 13. All the companies that have been acquired after 2010, order by the acquisition amount, and retrieve only their `name` and `acquisition` field."
   ]
  },
  {
   "cell_type": "code",
   "execution_count": 36,
   "metadata": {},
   "outputs": [],
   "source": [
    "#Definiendo las variables\n",
    "filtro13 = {\"acquisition.acquired_year\":{\"$gt\":2010}}\n",
    "proyeccion13 = {\"_id\":0, \"name\":1, \"acquisition\":1}"
   ]
  },
  {
   "cell_type": "markdown",
   "metadata": {},
   "source": [
    "Respuesta"
   ]
  },
  {
   "cell_type": "code",
   "execution_count": 37,
   "metadata": {},
   "outputs": [
    {
     "data": {
      "text/plain": [
       "[{'name': 'T-Mobile',\n",
       "  'acquisition': {'price_amount': 39000000000,\n",
       "   'price_currency_code': 'USD',\n",
       "   'term_code': None,\n",
       "   'source_url': 'http://techcrunch.com/2011/03/20/in-the-race-for-more-spectrum-att-is-acquiring-t-mobile-for-39-billion/',\n",
       "   'source_description': 'In The Race For More Spectrum, AT&T Is Acquiring T-Mobile For $39 Billion',\n",
       "   'acquired_year': 2011,\n",
       "   'acquired_month': 3,\n",
       "   'acquired_day': 20,\n",
       "   'acquiring_company': {'name': 'AT&T', 'permalink': 'at-t'}}},\n",
       " {'name': 'Goodrich Corporation',\n",
       "  'acquisition': {'price_amount': 18400000000,\n",
       "   'price_currency_code': 'USD',\n",
       "   'term_code': None,\n",
       "   'source_url': 'http://www.masshightech.com/stories/2011/09/19/daily37-UTC-shells-out-184-billion-for-Goodrich.html',\n",
       "   'source_description': 'UTC shells out $18.4 billion for Goodrich',\n",
       "   'acquired_year': 2011,\n",
       "   'acquired_month': 9,\n",
       "   'acquired_day': 22,\n",
       "   'acquiring_company': {'name': 'United Technologies',\n",
       "    'permalink': 'united-technologies'}}},\n",
       " {'name': 'LSI',\n",
       "  'acquisition': {'price_amount': 6600000000,\n",
       "   'price_currency_code': 'USD',\n",
       "   'term_code': 'cash',\n",
       "   'source_url': 'http://dealbook.nytimes.com/2013/12/16/avago-to-buy-lsi-for-6-6-billion/?_r=0',\n",
       "   'source_description': 'Avago to Buy LSI for $6.6 Billion',\n",
       "   'acquired_year': 2013,\n",
       "   'acquired_month': 12,\n",
       "   'acquired_day': 16,\n",
       "   'acquiring_company': {'name': 'Avago Technologies',\n",
       "    'permalink': 'avago-technologies'}}},\n",
       " {'name': 'National Semiconductor',\n",
       "  'acquisition': {'price_amount': 6500000000,\n",
       "   'price_currency_code': 'USD',\n",
       "   'term_code': 'cash',\n",
       "   'source_url': 'http://www.national.com/news/item/0,1735,1522,00.html',\n",
       "   'source_description': 'TI to acquire National Semiconductor Complementary portfolios are foundation for growth',\n",
       "   'acquired_year': 2011,\n",
       "   'acquired_month': 4,\n",
       "   'acquired_day': 4,\n",
       "   'acquiring_company': {'name': 'Texas Instruments',\n",
       "    'permalink': 'texas-instruments'}}},\n",
       " {'name': 'Ariba',\n",
       "  'acquisition': {'price_amount': 4300000000,\n",
       "   'price_currency_code': 'USD',\n",
       "   'term_code': None,\n",
       "   'source_url': 'http://techcrunch.com/2012/05/22/sap-to-acquire-ariba-for-4-3-billion/',\n",
       "   'source_description': 'SAP To Acquire Ariba For $4.3 Billion',\n",
       "   'acquired_year': 2012,\n",
       "   'acquired_month': 5,\n",
       "   'acquired_day': 22,\n",
       "   'acquiring_company': {'name': 'SAP', 'permalink': 'sap'}}},\n",
       " {'name': 'NetLogic Microsystems',\n",
       "  'acquisition': {'price_amount': 3700000000,\n",
       "   'price_currency_code': 'USD',\n",
       "   'term_code': 'cash_and_stock',\n",
       "   'source_url': 'http://techcrunch.com/2011/09/12/broadcom-buys-chipmaker-netlogic-for-3-7-billion/',\n",
       "   'source_description': 'Broadcom Buys Chipmaking Technology Company Netlogic For $3.7 Billion',\n",
       "   'acquired_year': 2011,\n",
       "   'acquired_month': 9,\n",
       "   'acquired_day': 12,\n",
       "   'acquiring_company': {'name': 'Broadcom', 'permalink': 'broadcom'}}},\n",
       " {'name': 'SuccessFactors',\n",
       "  'acquisition': {'price_amount': 3400000000,\n",
       "   'price_currency_code': 'USD',\n",
       "   'term_code': None,\n",
       "   'source_url': 'http://techcrunch.com/2012/02/22/successfactors-sap/',\n",
       "   'source_description': 'After Closing $3.4B Acquisition Of SuccessFactors, SAP Pushes Human Capital Management In The Cloud',\n",
       "   'acquired_year': 2012,\n",
       "   'acquired_month': 2,\n",
       "   'acquired_day': 22,\n",
       "   'acquiring_company': {'name': 'SAP', 'permalink': 'sap'}}},\n",
       " {'name': 'Qualcomm Atheros',\n",
       "  'acquisition': {'price_amount': 3100000000,\n",
       "   'price_currency_code': 'USD',\n",
       "   'term_code': 'stock',\n",
       "   'source_url': 'http://www.sdbj.com/news/2011/may/24/qualcomm-brings-atheros-fold/',\n",
       "   'source_description': 'Qualcomm Brings Atheros Into the Fold',\n",
       "   'acquired_year': 2011,\n",
       "   'acquired_month': 5,\n",
       "   'acquired_day': 5,\n",
       "   'acquiring_company': {'name': 'Qualcomm', 'permalink': 'qualcomm'}}},\n",
       " {'name': 'Global Crossing',\n",
       "  'acquisition': {'price_amount': 3000000000,\n",
       "   'price_currency_code': 'USD',\n",
       "   'term_code': 'stock',\n",
       "   'source_url': 'http://techcrunch.com/2011/04/11/level-3-to-acquire-global-crossing-for-3-billion-in-stock/',\n",
       "   'source_description': 'Level 3 To Acquire Global Crossing For $3 Billion In Stock',\n",
       "   'acquired_year': 2011,\n",
       "   'acquired_month': 4,\n",
       "   'acquired_day': 11,\n",
       "   'acquiring_company': {'name': 'Level 3 Communications',\n",
       "    'permalink': 'level-3'}}},\n",
       " {'name': 'Global Crossing',\n",
       "  'acquisition': {'price_amount': 3000000000,\n",
       "   'price_currency_code': 'USD',\n",
       "   'term_code': 'stock',\n",
       "   'source_url': 'http://techcrunch.com/2011/04/11/level-3-to-acquire-global-crossing-for-3-billion-in-stock/',\n",
       "   'source_description': 'Level 3 To Acquire Global Crossing For $3 Billion In Stock',\n",
       "   'acquired_year': 2011,\n",
       "   'acquired_month': 4,\n",
       "   'acquired_day': 11,\n",
       "   'acquiring_company': {'name': 'Level 3 Communications',\n",
       "    'permalink': 'level-3'}}},\n",
       " {'name': 'Sourcefire',\n",
       "  'acquisition': {'price_amount': 2700000000,\n",
       "   'price_currency_code': 'USD',\n",
       "   'term_code': None,\n",
       "   'source_url': 'http://techcrunch.com/2013/07/23/cisco-acquires-cybersecurity-company-sourcefire-for-2-7b/',\n",
       "   'source_description': 'Cisco Acquires Cybersecurity Company Sourcefire For $2.7B',\n",
       "   'acquired_year': 2013,\n",
       "   'acquired_month': 7,\n",
       "   'acquired_day': 23,\n",
       "   'acquiring_company': {'name': 'Cisco', 'permalink': 'cisco'}}},\n",
       " {'name': 'ExactTarget',\n",
       "  'acquisition': {'price_amount': 2500000000,\n",
       "   'price_currency_code': 'USD',\n",
       "   'term_code': None,\n",
       "   'source_url': 'http://techcrunch.com/2013/06/04/with-exacttarget-acquisition-salesforce-com-has-spent-close-to-3-5-billion-to-get-into-the-chief-marketing-officers-suite/',\n",
       "   'source_description': 'With ExactTarget Acquisition, Salesforce.com Has Spent Close To $3.5 Billion To Get Into The Chief Marketing Officer’s Suite',\n",
       "   'acquired_year': 2013,\n",
       "   'acquired_month': 6,\n",
       "   'acquired_day': 4,\n",
       "   'acquiring_company': {'name': 'Salesforce', 'permalink': 'salesforce'}}},\n",
       " {'name': 'Quest Software',\n",
       "  'acquisition': {'price_amount': 2400000000,\n",
       "   'price_currency_code': 'USD',\n",
       "   'term_code': None,\n",
       "   'source_url': 'http://techcrunch.com/2012/07/02/dell-acquires-quest-software-for-2-4-billion/',\n",
       "   'source_description': 'Dell Acquires Quest Software For $2.4 Billion',\n",
       "   'acquired_year': 2012,\n",
       "   'acquired_month': 7,\n",
       "   'acquired_day': 2,\n",
       "   'acquiring_company': {'name': 'Dell', 'permalink': 'dell'}}},\n",
       " {'name': 'Taleo',\n",
       "  'acquisition': {'price_amount': 1900000000,\n",
       "   'price_currency_code': 'USD',\n",
       "   'term_code': None,\n",
       "   'source_url': 'http://tctechcrunch2011.wordpress.com/2012/02/09/oracle-buys-talent-management-solutions-company-taleo-for-1-9-billion/',\n",
       "   'source_description': 'Oracle Buys Talent Management Solutions Company Taleo For $1.9 Billion',\n",
       "   'acquired_year': 2012,\n",
       "   'acquired_month': 2,\n",
       "   'acquired_day': 9,\n",
       "   'acquiring_company': {'name': 'Oracle Corporation',\n",
       "    'permalink': 'oracle'}}},\n",
       " {'name': 'Applied Systems',\n",
       "  'acquisition': {'price_amount': 1800000000,\n",
       "   'price_currency_code': 'USD',\n",
       "   'term_code': None,\n",
       "   'source_url': 'http://www.insurancenetworking.com/news/Applied-systems-acquired-by-hellman-and-friedman-33455-1.html',\n",
       "   'source_description': 'Applied Systems to be Acquired by Hellman & Friedman',\n",
       "   'acquired_year': 2013,\n",
       "   'acquired_month': 11,\n",
       "   'acquired_day': 26,\n",
       "   'acquiring_company': {'name': 'Hellman & Friedman',\n",
       "    'permalink': 'hellman-friedman'}}}]"
      ]
     },
     "execution_count": 37,
     "metadata": {},
     "output_type": "execute_result"
    }
   ],
   "source": [
    "list(collection.find(filtro13,proyeccion13).sort(\"acquisition.price_amount\", -1).limit(15))"
   ]
  },
  {
   "cell_type": "markdown",
   "metadata": {},
   "source": [
    "### 14. Order the companies by their `founded year`, retrieving only their `name` and `founded year`."
   ]
  },
  {
   "cell_type": "code",
   "execution_count": 38,
   "metadata": {},
   "outputs": [],
   "source": [
    "#Definicion de variables\n",
    "proyeccion14 = {\"_id\":0, \"name\":1, \"founded_year\":1}"
   ]
  },
  {
   "cell_type": "markdown",
   "metadata": {},
   "source": [
    "Respuesta"
   ]
  },
  {
   "cell_type": "code",
   "execution_count": 39,
   "metadata": {},
   "outputs": [
    {
     "data": {
      "text/plain": [
       "[{'name': 'Fluc', 'founded_year': 2013},\n",
       " {'name': 'Advaliant', 'founded_year': 2013},\n",
       " {'name': 'Tongxue', 'founded_year': 2013},\n",
       " {'name': 'Fixya', 'founded_year': 2013},\n",
       " {'name': 'iBazar', 'founded_year': 2013},\n",
       " {'name': 'Clowdy', 'founded_year': 2013},\n",
       " {'name': 'SEOGroup', 'founded_year': 2013},\n",
       " {'name': 'VistaGen Therapeutics', 'founded_year': 2013},\n",
       " {'name': 'Pikk', 'founded_year': 2013},\n",
       " {'name': 'Shopseen', 'founded_year': 2013},\n",
       " {'name': 'WhosCall', 'founded_year': 2013},\n",
       " {'name': 'Gimigo', 'founded_year': 2013},\n",
       " {'name': 'Wamba', 'founded_year': 2013},\n",
       " {'name': 'Mobiluck', 'founded_year': 2012},\n",
       " {'name': 'Jumbuck Entertainment', 'founded_year': 2012}]"
      ]
     },
     "execution_count": 39,
     "metadata": {},
     "output_type": "execute_result"
    }
   ],
   "source": [
    "list(collection.find({},proyeccion14).sort(\"founded_year\", -1).limit(15))"
   ]
  },
  {
   "cell_type": "markdown",
   "metadata": {},
   "source": [
    "### 15. All the companies that have been founded on the first seven days of the month, including the seventh. Sort them by their `acquisition price` in a descending order. Limit the search to 10 documents."
   ]
  },
  {
   "cell_type": "code",
   "execution_count": 40,
   "metadata": {},
   "outputs": [],
   "source": [
    "#Definicion de variables\n",
    "filtro18 = {\"founded_day\": {\"$lte\":7}}\n",
    "proyeccion18 = {\"_id\":0, \"name\":1, \"founded_month\":1, \"acquisition.price_amount\":1}"
   ]
  },
  {
   "cell_type": "markdown",
   "metadata": {},
   "source": [
    "Respuesta"
   ]
  },
  {
   "cell_type": "code",
   "execution_count": 41,
   "metadata": {},
   "outputs": [
    {
     "data": {
      "text/plain": [
       "[{'name': 'Netscape',\n",
       "  'founded_month': 4,\n",
       "  'acquisition': {'price_amount': 4200000000}},\n",
       " {'name': 'PayPal',\n",
       "  'founded_month': 12,\n",
       "  'acquisition': {'price_amount': 1500000000}},\n",
       " {'name': 'Zappos',\n",
       "  'founded_month': 1,\n",
       "  'acquisition': {'price_amount': 1200000000}},\n",
       " {'name': 'Alibaba',\n",
       "  'founded_month': 6,\n",
       "  'acquisition': {'price_amount': 1000000000}},\n",
       " {'name': 'Postini',\n",
       "  'founded_month': 6,\n",
       "  'acquisition': {'price_amount': 625000000}},\n",
       " {'name': 'Danger',\n",
       "  'founded_month': 12,\n",
       "  'acquisition': {'price_amount': 500000000}},\n",
       " {'name': 'Clearwell Systems',\n",
       "  'founded_month': 12,\n",
       "  'acquisition': {'price_amount': 410000000}},\n",
       " {'name': 'PrimeSense',\n",
       "  'founded_month': 5,\n",
       "  'acquisition': {'price_amount': 345000000}},\n",
       " {'name': 'Amobee',\n",
       "  'founded_month': 5,\n",
       "  'acquisition': {'price_amount': 321000000}},\n",
       " {'name': 'Vitrue',\n",
       "  'founded_month': 5,\n",
       "  'acquisition': {'price_amount': 300000000}}]"
      ]
     },
     "execution_count": 41,
     "metadata": {},
     "output_type": "execute_result"
    }
   ],
   "source": [
    "list(collection.find(filtro18,proyeccion18).sort(\"acquisition.price_amount\", -1).limit(10))"
   ]
  },
  {
   "cell_type": "markdown",
   "metadata": {},
   "source": [
    "### 16. All the companies on the 'web' `category` that have more than 4000 employees. Sort them by the amount of employees in ascending order."
   ]
  },
  {
   "cell_type": "code",
   "execution_count": 42,
   "metadata": {},
   "outputs": [],
   "source": [
    "#Definiendo las variables\n",
    "filtro16 = {\"$and\":[{\"category_code\":\"web\",\"number_of_employees\":{\"$gt\":4000}}]}\n",
    "proyeccion16 = {\"_id\":0, \"name\":1, \"category_code\":1, \"number_of_employees\":1}"
   ]
  },
  {
   "cell_type": "markdown",
   "metadata": {},
   "source": [
    "Respuesta"
   ]
  },
  {
   "cell_type": "code",
   "execution_count": 43,
   "metadata": {},
   "outputs": [
    {
     "data": {
      "text/plain": [
       "[{'name': 'Expedia', 'category_code': 'web', 'number_of_employees': 4400},\n",
       " {'name': 'AOL', 'category_code': 'web', 'number_of_employees': 8000},\n",
       " {'name': 'Webkinz', 'category_code': 'web', 'number_of_employees': 8657},\n",
       " {'name': 'Rakuten', 'category_code': 'web', 'number_of_employees': 10000},\n",
       " {'name': 'Los Angeles Times Media Group',\n",
       "  'category_code': 'web',\n",
       "  'number_of_employees': 10000},\n",
       " {'name': 'Groupon', 'category_code': 'web', 'number_of_employees': 10000},\n",
       " {'name': 'Yahoo!', 'category_code': 'web', 'number_of_employees': 13600},\n",
       " {'name': 'eBay', 'category_code': 'web', 'number_of_employees': 15000},\n",
       " {'name': 'Experian', 'category_code': 'web', 'number_of_employees': 15500}]"
      ]
     },
     "execution_count": 43,
     "metadata": {},
     "output_type": "execute_result"
    }
   ],
   "source": [
    "list(collection.find(filtro16,proyeccion16).sort(\"number_of_employees\",1))"
   ]
  },
  {
   "cell_type": "markdown",
   "metadata": {},
   "source": [
    "### 17. All the companies whose acquisition amount is more than 10.000.000, and currency is 'EUR'."
   ]
  },
  {
   "cell_type": "code",
   "execution_count": 44,
   "metadata": {},
   "outputs": [],
   "source": [
    "#Definiendo las variables\n",
    "filtro17 = {\"$and\":[{\"acquisition.price_amount\": {\"$gt\":10000000},\"acquisition.price_currency_code\":\"EUR\"}]}\n",
    "proyeccion17 = {\"_id\":0, \"name\":1, \"acquisition.price_amount\":1, \"acquisition.price_currency_code\":1}"
   ]
  },
  {
   "cell_type": "markdown",
   "metadata": {},
   "source": [
    "Respuesta"
   ]
  },
  {
   "cell_type": "code",
   "execution_count": 45,
   "metadata": {},
   "outputs": [
    {
     "data": {
      "text/plain": [
       "[{'name': 'ZYB',\n",
       "  'acquisition': {'price_amount': 31500000, 'price_currency_code': 'EUR'}},\n",
       " {'name': 'Apertio',\n",
       "  'acquisition': {'price_amount': 140000000, 'price_currency_code': 'EUR'}},\n",
       " {'name': 'Greenfield Online',\n",
       "  'acquisition': {'price_amount': 40000000, 'price_currency_code': 'EUR'}},\n",
       " {'name': 'Webedia',\n",
       "  'acquisition': {'price_amount': 70000000, 'price_currency_code': 'EUR'}},\n",
       " {'name': 'Wayfinder',\n",
       "  'acquisition': {'price_amount': 24000000, 'price_currency_code': 'EUR'}},\n",
       " {'name': 'Tuenti Technologies',\n",
       "  'acquisition': {'price_amount': 70000000, 'price_currency_code': 'EUR'}},\n",
       " {'name': 'BioMed Central',\n",
       "  'acquisition': {'price_amount': 43400000, 'price_currency_code': 'EUR'}}]"
      ]
     },
     "execution_count": 45,
     "metadata": {},
     "output_type": "execute_result"
    }
   ],
   "source": [
    "list(collection.find(filtro17,proyeccion17))"
   ]
  },
  {
   "cell_type": "markdown",
   "metadata": {},
   "source": [
    "### 18. All the companies that have been acquired on the first trimester of the year. Limit the search to 10 companies, and retrieve only their `name` and `acquisition` fields."
   ]
  },
  {
   "cell_type": "code",
   "execution_count": 46,
   "metadata": {},
   "outputs": [],
   "source": [
    "#Definiendo las variables\n",
    "filtro18 = {\"acquisition.acquired_month\":{\"$lte\":3}}\n",
    "proyeccion18 = {\"_id\":0, \"name\":1, \"acquisition\":1}"
   ]
  },
  {
   "cell_type": "markdown",
   "metadata": {},
   "source": [
    "Respuesta"
   ]
  },
  {
   "cell_type": "code",
   "execution_count": 47,
   "metadata": {},
   "outputs": [
    {
     "data": {
      "text/plain": [
       "[{'name': 'Kyte',\n",
       "  'acquisition': {'price_amount': None,\n",
       "   'price_currency_code': 'USD',\n",
       "   'term_code': None,\n",
       "   'source_url': 'http://techcrunch.com/2011/01/31/exclusive-kit-digital-acquires-kickapps-kewego-and-kyte-for-77-2-million/',\n",
       "   'source_description': 'KIT digital Acquires KickApps, Kewego AND Kyte For $77.2 Million',\n",
       "   'acquired_year': 2011,\n",
       "   'acquired_month': 1,\n",
       "   'acquired_day': 31,\n",
       "   'acquiring_company': {'name': 'KIT digital', 'permalink': 'kit-digital'}}},\n",
       " {'name': 'NetRatings',\n",
       "  'acquisition': {'price_amount': 327000000,\n",
       "   'price_currency_code': 'USD',\n",
       "   'term_code': 'cash',\n",
       "   'source_url': 'http://login.vnuemedia.com/hr/login/login_subscribe.jsp?id=0oqDem1gYIfIclz9i2%2Ffqj5NxCp2AC5DPbVnyT2da8GyV2mXjasabE128n69OrmcAh52%2FGE3pSG%2F%0AEKRYD9vh9EhrJrxukmUzh532fSMTZXL42gwPB80UWVtF1NwJ5UZSM%2BCkLU1mpYBoHFgiH%2Fi0f6Ax%0A9yMIVxt47t%2BHamhEQ0nkOEK24L',\n",
       "   'source_description': 'Nielsen buys rest of NetRatings',\n",
       "   'acquired_year': 2007,\n",
       "   'acquired_month': 2,\n",
       "   'acquired_day': None,\n",
       "   'acquiring_company': {'name': 'Nielsen', 'permalink': 'nielsen'}}},\n",
       " {'name': 'blogTV',\n",
       "  'acquisition': {'price_amount': None,\n",
       "   'price_currency_code': 'USD',\n",
       "   'term_code': None,\n",
       "   'source_url': 'http://techcrunch.com/2013/03/13/younow-buys-blogtv/',\n",
       "   'source_description': 'Live Social Video Network YouNow Acquires Streaming Service BlogTV',\n",
       "   'acquired_year': 2013,\n",
       "   'acquired_month': 3,\n",
       "   'acquired_day': 13,\n",
       "   'acquiring_company': {'name': 'YouNow', 'permalink': 'younow'}}},\n",
       " {'name': 'Livestream',\n",
       "  'acquisition': {'price_amount': None,\n",
       "   'price_currency_code': 'USD',\n",
       "   'term_code': 'cash_and_stock',\n",
       "   'source_url': '',\n",
       "   'source_description': 'company',\n",
       "   'acquired_year': 2008,\n",
       "   'acquired_month': 1,\n",
       "   'acquired_day': 1,\n",
       "   'acquiring_company': {'name': 'Adviqo', 'permalink': 'adviqo'}}},\n",
       " {'name': 'iContact',\n",
       "  'acquisition': {'price_amount': 169000000,\n",
       "   'price_currency_code': 'USD',\n",
       "   'term_code': 'cash_and_stock',\n",
       "   'source_url': 'http://techcrunch.com/2012/02/28/vocus-buys-email-marketing-company-icontact-for-169-million/',\n",
       "   'source_description': 'Vocus Buys Email Marketing Company iContact For $169 Million',\n",
       "   'acquired_year': 2012,\n",
       "   'acquired_month': 2,\n",
       "   'acquired_day': 28,\n",
       "   'acquiring_company': {'name': 'Vocus', 'permalink': 'vocus'}}},\n",
       " {'name': 'Coghead',\n",
       "  'acquisition': {'price_amount': None,\n",
       "   'price_currency_code': 'USD',\n",
       "   'term_code': None,\n",
       "   'source_url': 'http://www.techcrunch.com/2009/02/19/sap-acquires-cogheads-technology-as-it-looks-towards-the-cloud/',\n",
       "   'source_description': 'SAP Acquires Cogheadâ€™s Technology As It Looks Towards The Cloud',\n",
       "   'acquired_year': 2009,\n",
       "   'acquired_month': 2,\n",
       "   'acquired_day': 19,\n",
       "   'acquiring_company': {'name': 'SAP', 'permalink': 'sap'}}},\n",
       " {'name': 'Dailymotion',\n",
       "  'acquisition': {'price_amount': 168000000,\n",
       "   'price_currency_code': 'USD',\n",
       "   'term_code': None,\n",
       "   'source_url': 'http://techcrunch.com/2013/02/22/orange-acquired-dailymotion-for-168-million-by-buying-out-the-remaining-51-stake/',\n",
       "   'source_description': 'Orange Acquired Dailymotion For $168 Million By Buying Out Remaining 51% Stake [Update: Orange Confirms]',\n",
       "   'acquired_year': 2013,\n",
       "   'acquired_month': 2,\n",
       "   'acquired_day': 22,\n",
       "   'acquiring_company': {'name': 'Orange', 'permalink': 'orange'}}},\n",
       " {'name': 'Netvibes',\n",
       "  'acquisition': {'price_amount': None,\n",
       "   'price_currency_code': 'USD',\n",
       "   'term_code': None,\n",
       "   'source_url': 'http://www.marketwatch.com/story/dassault-systemes-acquires-netvibes-2012-02-09',\n",
       "   'source_description': 'Dassault Systemes Acquires Netvibes',\n",
       "   'acquired_year': 2012,\n",
       "   'acquired_month': 2,\n",
       "   'acquired_day': 9,\n",
       "   'acquiring_company': {'name': 'Dassault Systemes',\n",
       "    'permalink': 'dassault'}}},\n",
       " {'name': 'Flickr',\n",
       "  'acquisition': {'price_amount': None,\n",
       "   'price_currency_code': 'USD',\n",
       "   'term_code': 'cash_and_stock',\n",
       "   'source_url': 'http://news.cnet.com/Yahoo-buys-photo-sharing-site-Flickr/2100-1038_3-5627640.html?tag=mncol;txt',\n",
       "   'source_description': 'CNET',\n",
       "   'acquired_year': 2005,\n",
       "   'acquired_month': 3,\n",
       "   'acquired_day': None,\n",
       "   'acquiring_company': {'name': 'Yahoo!', 'permalink': 'yahoo'}}},\n",
       " {'name': 'BabyCenter',\n",
       "  'acquisition': {'price_amount': None,\n",
       "   'price_currency_code': 'USD',\n",
       "   'term_code': None,\n",
       "   'source_url': 'http://www.investor.jnj.com/releasedetail.cfm?releaseid=63836',\n",
       "   'source_description': 'Johnson & Johnson Acquires BabyCenter From eToys, Inc. Leading Online Destination for Parents Plans for Continued Expansion of Operations',\n",
       "   'acquired_year': 2001,\n",
       "   'acquired_month': 3,\n",
       "   'acquired_day': 2,\n",
       "   'acquiring_company': {'name': 'Johnson & Johnson',\n",
       "    'permalink': 'johnson-johnson'}}}]"
      ]
     },
     "execution_count": 47,
     "metadata": {},
     "output_type": "execute_result"
    }
   ],
   "source": [
    "list(collection.find(filtro18,proyeccion18).limit(10))"
   ]
  },
  {
   "cell_type": "markdown",
   "metadata": {},
   "source": [
    "# Bonus\n",
    "### 19. All the companies that have been founded between 2000 and 2010, but have not been acquired before 2011."
   ]
  },
  {
   "cell_type": "code",
   "execution_count": 48,
   "metadata": {},
   "outputs": [
    {
     "data": {
      "text/plain": [
       "[{'name': 'Wetpaint',\n",
       "  'founded_year': 2005,\n",
       "  'acquisition': {'acquired_year': 2013}},\n",
       " {'name': 'Digg',\n",
       "  'founded_year': 2004,\n",
       "  'acquisition': {'acquired_year': 2012}},\n",
       " {'name': 'Geni',\n",
       "  'founded_year': 2006,\n",
       "  'acquisition': {'acquired_year': 2012}},\n",
       " {'name': 'Kyte',\n",
       "  'founded_year': 2006,\n",
       "  'acquisition': {'acquired_year': 2011}},\n",
       " {'name': 'Jingle Networks',\n",
       "  'founded_year': 2005,\n",
       "  'acquisition': {'acquired_year': 2011}},\n",
       " {'name': 'blogTV',\n",
       "  'founded_year': 2006,\n",
       "  'acquisition': {'acquired_year': 2013}},\n",
       " {'name': 'delicious',\n",
       "  'founded_year': 2003,\n",
       "  'acquisition': {'acquired_year': 2011}},\n",
       " {'name': 'Revision3',\n",
       "  'founded_year': 2005,\n",
       "  'acquisition': {'acquired_year': 2012}},\n",
       " {'name': 'iContact',\n",
       "  'founded_year': 2003,\n",
       "  'acquisition': {'acquired_year': 2012}},\n",
       " {'name': 'Mashery',\n",
       "  'founded_year': 2006,\n",
       "  'acquisition': {'acquired_year': 2013}},\n",
       " {'name': 'Dailymotion',\n",
       "  'founded_year': 2005,\n",
       "  'acquisition': {'acquired_year': 2013}},\n",
       " {'name': 'KickApps',\n",
       "  'founded_year': 2004,\n",
       "  'acquisition': {'acquired_year': 2012}},\n",
       " {'name': 'Instructables',\n",
       "  'founded_year': 2005,\n",
       "  'acquisition': {'acquired_year': 2011}},\n",
       " {'name': 'Netvibes',\n",
       "  'founded_year': 2005,\n",
       "  'acquisition': {'acquired_year': 2012}},\n",
       " {'name': 'Dogster',\n",
       "  'founded_year': 2004,\n",
       "  'acquisition': {'acquired_year': 2011}}]"
      ]
     },
     "execution_count": 48,
     "metadata": {},
     "output_type": "execute_result"
    }
   ],
   "source": [
    "#Definiendo las variables\n",
    "filtro191 = {\"$and\": [{\"founded_year\": {\"$gte\":2000}},{\"founded_year\": {\"$lte\":2010}}]}\n",
    "filtro192 = {\"$and\": [{\"acquisition.acquired_year\": {\"$gte\":2011}}]}\n",
    "proyeccion19 = {\"_id\":0, \"name\":1, \"founded_year\":1, \"acquisition.acquired_year\":1}\n",
    "\n",
    "#Respuesta\n",
    "list(collection.find({\"$and\": [filtro191,filtro192]},proyeccion19).limit(15))"
   ]
  },
  {
   "cell_type": "markdown",
   "metadata": {},
   "source": [
    "### 20. All the companies that have been 'deadpooled' after the third year."
   ]
  },
  {
   "cell_type": "code",
   "execution_count": 49,
   "metadata": {},
   "outputs": [
    {
     "data": {
      "text/plain": [
       "[{'name': 'Zoho', 'deadpooled_year': 3},\n",
       " {'name': 'Omnidrive', 'deadpooled_year': 2008},\n",
       " {'name': 'Babelgum', 'deadpooled_year': 2013},\n",
       " {'name': 'Sparter', 'deadpooled_year': 2008},\n",
       " {'name': 'Thoof', 'deadpooled_year': 2013},\n",
       " {'name': 'Mercora', 'deadpooled_year': 2008},\n",
       " {'name': 'Wesabe', 'deadpooled_year': 2010},\n",
       " {'name': 'Jangl SMS', 'deadpooled_year': 2008},\n",
       " {'name': 'Stickam', 'deadpooled_year': 2013},\n",
       " {'name': 'AllPeers', 'deadpooled_year': 2008},\n",
       " {'name': 'EQO', 'deadpooled_year': 2012},\n",
       " {'name': 'AllofMP3', 'deadpooled_year': 2007},\n",
       " {'name': 'SellABand', 'deadpooled_year': 2010},\n",
       " {'name': 'Zlio', 'deadpooled_year': 2011},\n",
       " {'name': 'Jaiku', 'deadpooled_year': 2012}]"
      ]
     },
     "execution_count": 49,
     "metadata": {},
     "output_type": "execute_result"
    }
   ],
   "source": [
    "#Definiendo las variables\n",
    "filtro20 = {\"deadpooled_year\": {\"$gte\":3}}\n",
    "proyeccion20 = {\"_id\": 0 , \"name\": 1, \"deadpooled_year\": 1}\n",
    "\n",
    "#Respuesta?\n",
    "list(collection.find(filtro20,proyeccion20).limit(15))"
   ]
  },
  {
   "cell_type": "code",
   "execution_count": 50,
   "metadata": {},
   "outputs": [
    {
     "data": {
      "text/plain": [
       "[{'name': 'Omnidrive', 'deadpooled_year': 2008},\n",
       " {'name': 'Babelgum', 'deadpooled_year': 2013},\n",
       " {'name': 'Sparter', 'deadpooled_year': 2008},\n",
       " {'name': 'Thoof', 'deadpooled_year': 2013},\n",
       " {'name': 'Mercora', 'deadpooled_year': 2008},\n",
       " {'name': 'Wesabe', 'deadpooled_year': 2010},\n",
       " {'name': 'Jangl SMS', 'deadpooled_year': 2008},\n",
       " {'name': 'Stickam', 'deadpooled_year': 2013},\n",
       " {'name': 'AllPeers', 'deadpooled_year': 2008},\n",
       " {'name': 'EQO', 'deadpooled_year': 2012},\n",
       " {'name': 'AllofMP3', 'deadpooled_year': 2007},\n",
       " {'name': 'SellABand', 'deadpooled_year': 2010},\n",
       " {'name': 'Zlio', 'deadpooled_year': 2011},\n",
       " {'name': 'Jaiku', 'deadpooled_year': 2012},\n",
       " {'name': 'Spotplex', 'deadpooled_year': 2008}]"
      ]
     },
     "execution_count": 50,
     "metadata": {},
     "output_type": "execute_result"
    }
   ],
   "source": [
    "#Internet\n",
    "#Collection aggregate https://docs.mongodb.com/manual/aggregation/\n",
    "collection.aggregate([{\"$project\":{\"deadpooled_vs_founded\":{\"$subtract\":[\"$deadpooled_year\", \"$founded_year\"]}}}])\n",
    "\n",
    "filtro21 = {\"$or\": [{\"deadpooled_vs_founded\":{\"$gt\":3}},{\"deadpooled_year\":{\"$gt\":3}}]}\n",
    "\n",
    "#Respuesta\n",
    "list(collection.find(filtro21,proyeccion20).limit(15))"
   ]
  }
 ],
 "metadata": {
  "kernelspec": {
   "display_name": "OLAYA1",
   "language": "python",
   "name": "olaya1"
  },
  "language_info": {
   "codemirror_mode": {
    "name": "ipython",
    "version": 3
   },
   "file_extension": ".py",
   "mimetype": "text/x-python",
   "name": "python",
   "nbconvert_exporter": "python",
   "pygments_lexer": "ipython3",
   "version": "3.8.5"
  }
 },
 "nbformat": 4,
 "nbformat_minor": 2
}
